{
 "cells": [
  {
   "cell_type": "markdown",
   "id": "142364c6-14a7-4540-89cb-845812f23f6c",
   "metadata": {},
   "source": [
    "# Part 2: RAG\n"
   ]
  },
  {
   "cell_type": "markdown",
   "id": "ce06a4ee",
   "metadata": {},
   "source": [
    "## 1. Import"
   ]
  },
  {
   "cell_type": "code",
   "execution_count": 130,
   "id": "d66f7678-dd7b-48bf-8bc1-f81b6c52f459",
   "metadata": {},
   "outputs": [],
   "source": [
    "from typing import Literal, Any\n",
    "from copy import deepcopy\n",
    "\n",
    "from typing_extensions import TypedDict\n",
    "import matplotlib.pyplot as plt\n",
    "import numpy as np\n",
    "from decouple import config\n",
    "from pydantic import BaseModel, Field\n",
    "from IPython.display import Image, display\n",
    "from tqdm import tqdm\n",
    "from dotenv import load_dotenv\n",
    "\n",
    "from langchain_chroma import Chroma\n",
    "from langchain_core.documents import Document\n",
    "from langchain_community.document_loaders import TextLoader\n",
    "from langchain_text_splitters.markdown import MarkdownHeaderTextSplitter\n",
    "from langchain.prompts import PromptTemplate\n",
    "from langchain_ibm import WatsonxEmbeddings\n",
    "from langchain_ibm import WatsonxLLM\n",
    "from langgraph.graph import START, StateGraph\n",
    "from ibm_watsonx_ai.metanames import GenTextParamsMetaNames as GenParams\n",
    "\n",
    "import litellm\n",
    "from litellm import completion\n",
    "import instructor\n",
    "from instructor import Mode\n",
    "\n",
    "\n",
    "import os"
   ]
  },
  {
   "cell_type": "markdown",
   "id": "cb72fc95",
   "metadata": {},
   "source": [
    "## 2. Load API key and model setup"
   ]
  },
  {
   "cell_type": "code",
   "execution_count": 131,
   "id": "186fff4d-25c2-4b78-a4f1-634fea386b5d",
   "metadata": {},
   "outputs": [
    {
     "name": "stdout",
     "output_type": "stream",
     "text": [
      "True\n"
     ]
    }
   ],
   "source": [
    "print(os.path.exists(\".env\")) "
   ]
  },
  {
   "cell_type": "code",
   "execution_count": 132,
   "id": "d45980aa",
   "metadata": {},
   "outputs": [
    {
     "name": "stdout",
     "output_type": "stream",
     "text": [
      "API Key Loaded Successfully\n"
     ]
    }
   ],
   "source": [
    "# Load .env file\n",
    "load_dotenv() \n",
    "\n",
    "# Get the API key\n",
    "WX_API_KEY = os.getenv('WX_API_KEY')\n",
    "WX_PROJECT_ID = os.getenv('WX_Project_ID')\n",
    "\n",
    "if WX_API_KEY:\n",
    "    print(\"API Key Loaded Successfully\")\n",
    "else:\n",
    "    print(\"API Key Not Found! Check your .env file.\")\n",
    "\n",
    "WX_API_URL = \"https://us-south.ml.cloud.ibm.com\"\n"
   ]
  },
  {
   "cell_type": "code",
   "execution_count": 133,
   "id": "d5811af8-8cd3-4e19-8d01-a422c6239e07",
   "metadata": {},
   "outputs": [],
   "source": [
    "from langchain_ibm import WatsonxLLM\n",
    "from ibm_watsonx_ai.metanames import GenTextParamsMetaNames as GenParams\n",
    "\n",
    "\n",
    "llm = WatsonxLLM(\n",
    "\n",
    "        model_id= \"ibm/granite-3-8b-instruct\",\n",
    "        url=WX_API_URL,\n",
    "        apikey=WX_API_KEY,\n",
    "        project_id=WX_PROJECT_ID,\n",
    "\n",
    "        params={\n",
    "            GenParams.DECODING_METHOD: \"greedy\",\n",
    "            GenParams.TEMPERATURE: 0,\n",
    "            GenParams.MIN_NEW_TOKENS: 5,\n",
    "            GenParams.MAX_NEW_TOKENS: 1_000,\n",
    "            GenParams.REPETITION_PENALTY:1.2\n",
    "        }\n",
    "\n",
    ")"
   ]
  },
  {
   "cell_type": "code",
   "execution_count": 134,
   "id": "8d63610e-8e66-47ca-bdc6-315f49b6bee8",
   "metadata": {},
   "outputs": [
    {
     "name": "stdout",
     "output_type": "stream",
     "text": [
      "<class 'langchain_core.outputs.llm_result.LLMResult'>\n",
      "generations=[[Generation(text=\"\\nI'm an artificial intelligence and don't have feelings, but I'm here to help you. How can I assist you today?\", generation_info={'finish_reason': 'eos_token'})]] llm_output={'token_usage': {'generated_token_count': 31, 'input_token_count': 5}, 'model_id': 'ibm/granite-3-8b-instruct', 'deployment_id': None} run=[RunInfo(run_id=UUID('e1226eaf-e0e7-4722-bded-9d2e0958faa4'))] type='LLMResult'\n"
     ]
    }
   ],
   "source": [
    "llm_result = llm.generate([\"Hi how are you?\"])\n",
    "\n",
    "print(type(llm_result))\n",
    "print(llm_result)"
   ]
  },
  {
   "cell_type": "markdown",
   "id": "0eeeaa67",
   "metadata": {},
   "source": [
    "## 3. Load the markdown file"
   ]
  },
  {
   "cell_type": "code",
   "execution_count": 135,
   "id": "dd66c040-298e-463a-bf18-e31efd3b22ea",
   "metadata": {},
   "outputs": [
    {
     "data": {
      "text/plain": [
       "{'source': 'C:\\\\Users\\\\charl\\\\Documents\\\\CBS\\\\Code Projects_Python\\\\AIML25\\\\AIML25_Project\\\\parsed_markdown\\\\consolidated_markdown_data.md'}"
      ]
     },
     "execution_count": 135,
     "metadata": {},
     "output_type": "execute_result"
    }
   ],
   "source": [
    "from langchain_community.document_loaders import TextLoader\n",
    "\n",
    "\n",
    "document = TextLoader(r\"C:\\Users\\charl\\Documents\\CBS\\Code Projects_Python\\AIML25\\AIML25_Project\\parsed_markdown\\consolidated_markdown_data.md\").load()[0]\n",
    "document.metadata"
   ]
  },
  {
   "cell_type": "markdown",
   "id": "2fcc4a68",
   "metadata": {},
   "source": [
    "## 4. Chunking the data from the markdown"
   ]
  },
  {
   "cell_type": "code",
   "execution_count": 136,
   "id": "a410d210-bca1-486e-84f5-65569ea3be26",
   "metadata": {},
   "outputs": [],
   "source": [
    "from langchain_text_splitters import RecursiveCharacterTextSplitter\n",
    "from langchain_text_splitters import MarkdownHeaderTextSplitter\n",
    "\n",
    "#splitting the markdown file based on headers\n",
    "headers_to_split_on = [(\"#\", \"Header 1\"), (\"##\", \"Header 2\"), (\"###\", \"Header 3\")]\n",
    "markdown_splitter = MarkdownHeaderTextSplitter(headers_to_split_on=headers_to_split_on)\n",
    "header_chunks = markdown_splitter.split_text(document.page_content)\n",
    "\n",
    "#each header chunk is then split again by token size\n",
    "token_splitter = RecursiveCharacterTextSplitter(chunk_size=300, chunk_overlap=50)\n",
    "\n",
    "#applying the token-based split by looping through each header chunk\n",
    "final_chunks = []\n",
    "for chunk in header_chunks:\n",
    "    sub_chunks = token_splitter.split_text(chunk.page_content)\n",
    "    for sub_chunk in sub_chunks:\n",
    "        final_chunks.append(Document(page_content=sub_chunk, metadata=chunk.metadata))\n",
    "\n"
   ]
  },
  {
   "cell_type": "code",
   "execution_count": 137,
   "id": "c72ebffe-1568-4e64-9072-c99373ec46b2",
   "metadata": {},
   "outputs": [],
   "source": [
    "#filtering out content under the header \"page footer\" or data that is mostly links\n",
    "filtered_chunks = []\n",
    "for chunk in final_chunks:\n",
    "    is_footer = (\n",
    "    chunk.metadata.get(\"Header 2\") == 'Page Header' or\n",
    "    chunk.metadata.get(\"Header 2\") == \"Page Footer\" or\n",
    "    chunk.metadata.get(\"Header 2\") == \"Page Number\"\n",
    ")\n",
    "    is_link = (\n",
    "        chunk.page_content.count(\"http\") > 1      # mostly links\n",
    "    )\n",
    "\n",
    "    if is_footer or is_link:\n",
    "        continue  # Skip useless headers or content\n",
    "    filtered_chunks.append(chunk)\n"
   ]
  },
  {
   "cell_type": "code",
   "execution_count": 138,
   "id": "1a945fd3-a375-4fdf-8e9f-77c7d0ca35a6",
   "metadata": {},
   "outputs": [
    {
     "name": "stdout",
     "output_type": "stream",
     "text": [
      "FOUND in chunk 2675:\n",
      "574,99 € <!-- text, from page 0 (l=0.089,t=0.882,r=0.251,b=0.907), with ID d921a42c-dd4f-4fd7-99a0-2d2839878787 -->\n",
      "\n",
      "FOUND in chunk 2956:\n",
      "- **Price**: 574,99 €\n",
      "- **Includes**: MwSt. (Mehrwertsteuer)\n",
      "- **Delivery**: kostenlose Lieferung ab 50 € <!-- text, from page 0 (l=0.087,t=0.882,r=0.404,b=0.932), with ID 33768bdd-fdd2-4b49-a931-9860c75eebb6 -->\n",
      "\n"
     ]
    }
   ],
   "source": [
    "for i, chunk in enumerate(filtered_chunks):\n",
    "    if \"574,99 €\" in chunk.page_content:\n",
    "        print(f\"FOUND in chunk {i}:\\n{chunk.page_content}\\n\")"
   ]
  },
  {
   "cell_type": "code",
   "execution_count": 139,
   "id": "046c8bb5-dd41-49e6-966f-701fb33ea7c2",
   "metadata": {},
   "outputs": [
    {
     "data": {
      "text/plain": [
       "[Document(metadata={}, page_content='<!-- ===== consolidated_markdown_data.md ===== -->  \\n<!-- ===== K 2 Battery _ Kärcher.md ===== -->'),\n",
       " Document(metadata={'Header 2': 'K 2 BATTERY'}, page_content='Der leistungsstarke Akku-Hochdruckreiniger K 2 Battery für vielseitige, flexible Einsätze ohne Stromanschluss. 36-V-Wechselakku und Ladegerät sind als Sonderzubehör separat erhältlich. <!-- text, from page 0 (l=0.064,t=0.080,r=0.932,b=0.148), with ID 329efb5d-cc5e-4ef2-8d0a-9f47c52857eb -->'),\n",
       " Document(metadata={'Header 2': 'K 2 BATTERY', 'Header 3': 'Description'}, page_content='The image shows a yellow and black pressure washer from the brand Kärcher. It is a compact, portable model with a handle at the top for easy carrying. The device features a battery compartment at the top, indicating it is battery-operated. The Kärcher logo is prominently displayed on the front.'),\n",
       " Document(metadata={'Header 2': 'K 2 BATTERY', 'Header 3': 'Description'}, page_content='#### Key Features:  \\n- **Color**: Predominantly yellow with black accents.\\n- **Design**:\\n- The pressure washer has a sturdy handle for portability.\\n- A battery compartment is visible at the top, suggesting it is cordless.'),\n",
       " Document(metadata={'Header 2': 'K 2 BATTERY', 'Header 3': 'Description'}, page_content='- The front panel includes a circular connector for attaching hoses or accessories.\\n- **Accessories**:\\n- Two black spray lances are included, each with different nozzle designs for varied cleaning tasks.'),\n",
       " Document(metadata={'Header 2': 'K 2 BATTERY', 'Header 3': 'Description'}, page_content='- One lance appears to have a rotating nozzle for more intense cleaning, while the other has a standard spray tip.'),\n",
       " Document(metadata={'Header 2': 'K 2 BATTERY', 'Header 3': 'Description'}, page_content='This pressure washer is likely designed for home use, suitable for cleaning cars, patios, and other outdoor surfaces. The inclusion of a battery suggests it is intended for convenience and ease of use without the need for a direct power source. <!-- figure, from page 0'),\n",
       " Document(metadata={'Header 2': 'K 2 BATTERY', 'Header 3': 'Description'}, page_content='a direct power source. <!-- figure, from page 0 (l=0.065,t=0.193,r=0.934,b=0.867), with ID 5b68f41f-10ae-4bdd-b8e6-79dcdd14f4cb -->'),\n",
       " Document(metadata={'Header 2': 'K 2 BATTERY', 'Header 3': 'Price Information'}, page_content='- **Price**: 209,99 €\\n- **Details**: inkl. MwSt. - kostenlose Lieferung ab 50 € <!-- text, from page 0 (l=0.087,t=0.882,r=0.404,b=0.932), with ID 2e3be5a5-40e1-46a2-a339-1ad280d895e0 -->'),\n",
       " Document(metadata={'Header 2': 'K 2 Battery | Kärcher'}, page_content='This is a page header indicating the title \"K 2 Battery | Kärcher\". <!-- page_header, from page 0 (l=0.516,t=0.019,r=0.641,b=0.028), with ID 7cdd7b91-d342-4924-b4d2-426dabc780d6 -->'),\n",
       " Document(metadata={'Header 2': 'Document Information'}, page_content='- **Lieferbar in**: 3-4 Werktagen\\n- **Bestellnummer**: 1.117-200.0 <!-- key_value, from page 0 (l=0.087,t=0.037,r=0.300,b=0.069), with ID 63bdf150-c4ba-4430-9358-c5f1e1afe288 -->'),\n",
       " Document(metadata={'Header 2': 'Händlersuche'}, page_content='- **Ort oder PLZ**: [ ] <!-- form, from page 0 (l=0.087,t=0.112,r=0.390,b=0.161), with ID e5087e93-d534-45f9-a8a1-412fc6e831fa -->'),\n",
       " Document(metadata={'Header 2': 'Händlersuche', 'Header 3': 'Figure Description'}, page_content='The image shows a rating system with the following details:  \\n- **Star Rating**:\\n- There are five stars in total.\\n- The first two stars are filled in yellow, indicating a positive rating.\\n- The remaining three stars are empty, indicating a lack of rating.  \\n- **Numerical Rating**:'),\n",
       " Document(metadata={'Header 2': 'Händlersuche', 'Header 3': 'Figure Description'}, page_content='- **Numerical Rating**:\\n- The text \"3.1\" is displayed next to the stars, representing the average rating.  \\n- **Number of Reviews**:\\n- The number \"11\" is shown in parentheses, indicating the total number of reviews.  \\n- **Call to Action**:'),\n",
       " Document(metadata={'Header 2': 'Händlersuche', 'Header 3': 'Figure Description'}, page_content='- The text \"Jetzt Produkt bewerten\" is present, which translates to \"Rate this product now\" in English. This suggests an invitation for users to submit their own ratings. <!-- figure, from page 0 (l=0.099,t=0.232,r=0.499,b=0.254), with ID a7a6a7f5-84e8-498d-ba42-0fb0d21fe470 -->'),\n",
       " Document(metadata={'Header 2': 'Text Information'}, page_content='Benötigen Sie Hilfe?\\nHotline: +49 7195 903 0 <!-- key_value, from page 0 (l=0.087,t=0.343,r=0.270,b=0.369), with ID 7a65d907-e373-4a51-b860-f6203aa3384a -->'),\n",
       " Document(metadata={'Header 2': 'Akkubetriebener Hochdruckreiniger'}, page_content='Glänzt auch ohne Stromanschluss: der akkubetriebene Hochdruckreiniger für vielseitige Anwendungsgebiete wie kleinere Autos, Boote, Gartenmöbel, Mülltonnen und weitere kleinere Reinigungsaufgaben rund ums Haus. Dank Standard-, Boost- und Reinigungsmittel-Modus lassen sich die verschiedenen'),\n",
       " Document(metadata={'Header 2': 'Akkubetriebener Hochdruckreiniger'}, page_content='lassen sich die verschiedenen Reinigungsobjekte mit genau dem richtigen Druck bearbeiten. Auf dem analogen Display der Hochdruckpistole wird der gewählte Modus während der Reinigung dauerhaft angezeigt. Die einzelnen Druckstufen können bequem durch den Wechsel des Strahlrohrs eingestellt werden.'),\n",
       " Document(metadata={'Header 2': 'Akkubetriebener Hochdruckreiniger'}, page_content='den Wechsel des Strahlrohrs eingestellt werden. Das Gerät ist kompatibel mit dem 36 V / 5,0 Ah Li-Ion Wechselakku aus der 36 V Kärcher Battery Power-Plattform. Akku und Ladegerät sind als Sonderzubehör separat erhältlich. Zudem kann ein Kärcher Ansaugschlauch angeschlossen werden, um Wasser aus'),\n",
       " Document(metadata={'Header 2': 'Akkubetriebener Hochdruckreiniger'}, page_content='angeschlossen werden, um Wasser aus alternativen Wasserquellen anzusaugen. <!-- text, from page 0 (l=0.064,t=0.481,r=0.932,b=0.598), with ID c4177278-10a8-43ce-81e3-3f8ddb2f3224 -->')]"
      ]
     },
     "execution_count": 139,
     "metadata": {},
     "output_type": "execute_result"
    }
   ],
   "source": [
    "filtered_chunks [:20]"
   ]
  },
  {
   "cell_type": "code",
   "execution_count": 140,
   "id": "519eb478-593c-43f4-84e1-6f49731b8149",
   "metadata": {},
   "outputs": [],
   "source": [
    "from copy import deepcopy\n",
    "\n",
    "\n",
    "def update_documents_with_headers(chunks):\n",
    "    \"\"\"\n",
    "    Creates a new list of Document objects with page_content prepended with headers\n",
    "    in [Header1/Header2/Header3]: format\n",
    "    \n",
    "    Returns new objects rather than modifying the original chunks\n",
    "    \"\"\"\n",
    "    updated_chunks = []\n",
    "    max_depth=3 \n",
    "    \n",
    "    for doc in chunks:\n",
    "        # Create a deep copy of the document to avoid modifying the original\n",
    "        new_doc = deepcopy(doc)\n",
    "        \n",
    "        # Get all headers that exist in metadata\n",
    "        headers = []\n",
    "        for i in range(1, max_depth + 1):\n",
    "            key = f'Header {i}'\n",
    "            if key in new_doc.metadata:\n",
    "                headers.append(f\"{key}: {new_doc.metadata[key]}\")\n",
    "        \n",
    "        # Create the header prefix and update page_content\n",
    "        if headers:\n",
    "            prefix = f\"[{'/'.join(headers)}]: \"\n",
    "            new_doc.page_content = prefix + \"\\n\" + new_doc.page_content\n",
    "        \n",
    "        updated_chunks.append(new_doc)\n",
    "    \n",
    "    return updated_chunks\n",
    "\n",
    "\n",
    "docs = update_documents_with_headers(filtered_chunks)"
   ]
  },
  {
   "cell_type": "code",
   "execution_count": 141,
   "id": "43fb772c",
   "metadata": {},
   "outputs": [],
   "source": [
    "import re\n",
    "#clean the data from urls\n",
    "def clean_content(text):\n",
    "\n",
    "\n",
    "    text = re.sub(r\"http\\S+\", \"\", text)  # Remove URLs\n",
    "    text = re.sub(r\"\\s+\", \" \", text).strip()\n",
    "    text = text.title()\n",
    "\n",
    "    return text"
   ]
  },
  {
   "cell_type": "code",
   "execution_count": 142,
   "id": "24f46ec9-60f2-4ea2-8d54-f039b12f1836",
   "metadata": {},
   "outputs": [],
   "source": [
    "# Apply clean_content to each document's page_content\n",
    "for doc in docs:\n",
    "    doc.page_content = clean_content(doc.page_content)"
   ]
  },
  {
   "cell_type": "code",
   "execution_count": 143,
   "id": "cd7adcf9-79ff-4a3d-860d-5270346af28d",
   "metadata": {},
   "outputs": [
    {
     "name": "stdout",
     "output_type": "stream",
     "text": [
      "<!-- ===== Consolidated_Markdown_Data.Md ===== --> <!-- ===== K 2 Battery _ Kärcher.Md ===== -->\n",
      "\n",
      "[Header 2: K 2 Battery]: Der Leistungsstarke Akku-Hochdruckreiniger K 2 Battery Für Vielseitige, Flexible Einsätze Ohne Stromanschluss. 36-V-Wechselakku Und Ladegerät Sind Als Sonderzubehör Separat Erhältlich. <!-- Text, From Page 0 (L=0.064,T=0.080,R=0.932,B=0.148), With Id 329Efb5D-Cc5E-4Ef2-8D0A-9F47C52857Eb -->\n",
      "\n",
      "[Header 2: K 2 Battery/Header 3: Description]: The Image Shows A Yellow And Black Pressure Washer From The Brand Kärcher. It Is A Compact, Portable Model With A Handle At The Top For Easy Carrying. The Device Features A Battery Compartment At The Top, Indicating It Is Battery-Operated. The Kärcher Logo Is Prominently Displayed On The Front.\n",
      "\n",
      "[Header 2: K 2 Battery/Header 3: Description]: #### Key Features: - **Color**: Predominantly Yellow With Black Accents. - **Design**: - The Pressure Washer Has A Sturdy Handle For Portability. - A Battery Compartment Is Visible At The Top, Suggesting It Is Cordless.\n",
      "\n",
      "[Header 2: K 2 Battery/Header 3: Description]: - The Front Panel Includes A Circular Connector For Attaching Hoses Or Accessories. - **Accessories**: - Two Black Spray Lances Are Included, Each With Different Nozzle Designs For Varied Cleaning Tasks.\n",
      "\n",
      "[Header 2: K 2 Battery/Header 3: Description]: - One Lance Appears To Have A Rotating Nozzle For More Intense Cleaning, While The Other Has A Standard Spray Tip.\n",
      "\n",
      "[Header 2: K 2 Battery/Header 3: Description]: This Pressure Washer Is Likely Designed For Home Use, Suitable For Cleaning Cars, Patios, And Other Outdoor Surfaces. The Inclusion Of A Battery Suggests It Is Intended For Convenience And Ease Of Use Without The Need For A Direct Power Source. <!-- Figure, From Page 0\n",
      "\n",
      "[Header 2: K 2 Battery/Header 3: Description]: A Direct Power Source. <!-- Figure, From Page 0 (L=0.065,T=0.193,R=0.934,B=0.867), With Id 5B68F41F-10Ae-4Bdd-B8E6-79Dcdd14F4Cb -->\n",
      "\n",
      "[Header 2: K 2 Battery/Header 3: Price Information]: - **Price**: 209,99 € - **Details**: Inkl. Mwst. - Kostenlose Lieferung Ab 50 € <!-- Text, From Page 0 (L=0.087,T=0.882,R=0.404,B=0.932), With Id 2E3Be5A5-40E1-46A2-A339-1Ad280D895E0 -->\n",
      "\n",
      "[Header 2: K 2 Battery | Kärcher]: This Is A Page Header Indicating The Title \"K 2 Battery | Kärcher\". <!-- Page_Header, From Page 0 (L=0.516,T=0.019,R=0.641,B=0.028), With Id 7Cdd7B91-D342-4924-B4D2-426Dabc780D6 -->\n",
      "\n"
     ]
    }
   ],
   "source": [
    "for doc in docs[:10]:\n",
    "    print(doc.page_content, end=\"\\n\\n\")"
   ]
  },
  {
   "cell_type": "markdown",
   "id": "cb9d595f",
   "metadata": {},
   "source": [
    "## 5. Embedding the chunks"
   ]
  },
  {
   "cell_type": "code",
   "execution_count": 144,
   "id": "8d8c9a4a-7fdc-4897-bab9-6cdaa5beb5ab",
   "metadata": {},
   "outputs": [],
   "source": [
    "from langchain_ibm import WatsonxEmbeddings\n",
    "\n",
    "\n",
    "embed_params = {}\n",
    "\n",
    "watsonx_embedding = WatsonxEmbeddings(\n",
    "    model_id=\"ibm/granite-embedding-278m-multilingual\",\n",
    "    url= WX_API_URL,\n",
    "    project_id=WX_PROJECT_ID,\n",
    "    apikey=WX_API_KEY,\n",
    "    params=embed_params,\n",
    ")"
   ]
  },
  {
   "cell_type": "code",
   "execution_count": 145,
   "id": "a864b696-8dce-44b0-ad98-8bc9a6f1c898",
   "metadata": {},
   "outputs": [],
   "source": [
    "from langchain_chroma import Chroma\n",
    "\n",
    "\n",
    "local_vector_db = Chroma.from_documents(\n",
    "    collection_name=\"my_collection\",\n",
    "    embedding=watsonx_embedding,\n",
    "    persist_directory=\"my_vector_db\", # This will save the vector database to disk! Delete it if you want to start fresh.\n",
    "    documents=docs,\n",
    "    \n",
    ")"
   ]
  },
  {
   "cell_type": "code",
   "execution_count": 146,
   "id": "9a242e43",
   "metadata": {},
   "outputs": [],
   "source": [
    "# Use the vectorstore as a retriever\n",
    "retriever = local_vector_db.as_retriever(\n",
    "    search_type=\"similarity\",\n",
    "    search_kwargs={\n",
    "        \"k\": 3,\n",
    "    }\n",
    ")"
   ]
  },
  {
   "cell_type": "markdown",
   "id": "4ab31a6d",
   "metadata": {},
   "source": [
    "## 6. Similarity search"
   ]
  },
  {
   "cell_type": "code",
   "execution_count": 147,
   "id": "ff2b4b38",
   "metadata": {},
   "outputs": [
    {
     "name": "stdout",
     "output_type": "stream",
     "text": [
      "################################################################################\n",
      "ID: c82372e4-cc96-430e-a37f-563216ad1007\n",
      "Content: [Header 1: K 7 Power Flex Home <!-- Title, From Page 0 (L=0.065,T=0.080,R=0.436,B=0.100), With Id 7417F6Ca-Fa9F-401A-9B38-6819C6E6Fbec -->/Header 2: Price Information]: - **Price**: 624,99 € - **Includes**: Mwst. (Vat) - **Delivery**: Kostenlose Lieferung Ab 50 € (Free Delivery From 50 €) <!-- Key_Value, From Page 0 (L=0.087,T=0.882,R=0.404,B=0.932), With Id 0791E3D2-41E5-47F4-Aba9-Ff9E9C94Cfce -->\n",
      "\n",
      "################################################################################\n",
      "ID: f851d3c7-ebb4-4881-8626-6aafd8e949af\n",
      "Content: [Header 1: K 7 Power Flex Home <!-- Title, From Page 0 (L=0.065,T=0.080,R=0.436,B=0.100), With Id 7417F6Ca-Fa9F-401A-9B38-6819C6E6Fbec -->/Header 2: Price Information]: - **Price**: 694,99 € - **Includes**: Mwst. (Vat) - **Delivery**: Kostenlose Lieferung Ab 50 € (Free Delivery From 50 €) <!-- Key_Value, From Page 0 (L=0.087,T=0.882,R=0.404,B=0.932), With Id 888F594B-7F69-4383-9Bd5-5Eb7750B30A7 -->\n",
      "\n",
      "################################################################################\n",
      "ID: a00217c4-c7a8-4a2e-a601-45ef396224e8\n",
      "Content: [Header 1: K 7 Power Flex Home <!-- Title, From Page 0 (L=0.065,T=0.080,R=0.436,B=0.100), With Id Dea94208-49E1-4A22-82F3-A1199F26C167 -->/Header 2: Price Information]: - **Price**: 624,99 € - **Includes**: Mwst. (Vat) - **Delivery**: Kostenlose Lieferung Ab 50 € (Free Delivery From 50 €) <!-- Key_Value, From Page 0 (L=0.087,T=0.882,R=0.404,B=0.932), With Id Bb77038B-12Ab-434C-B703-5D8D00394C8E -->\n",
      "\n"
     ]
    }
   ],
   "source": [
    "# Retrieve the most similar text for the given query\n",
    "query = \"What is the price in € of the K 7 Power Flex Home?\"\n",
    "\n",
    "# Retrieve the documents using the retriever\n",
    "retrieved_documents = retriever.invoke(query)\n",
    "\n",
    "# Print the results\n",
    "for document in retrieved_documents:\n",
    "    print(f\"{'#' * 80}\\nID: {document.id}\")\n",
    "    first_n_of_content = document.page_content[:500].replace('\\n\\n', ' ')\n",
    "    print(f\"Content: {first_n_of_content}\\n\")"
   ]
  },
  {
   "cell_type": "code",
   "execution_count": 148,
   "id": "2717c896",
   "metadata": {},
   "outputs": [],
   "source": [
    "from langchain.prompts import PromptTemplate\n",
    "\n",
    "few_shot_examples = \"\"\"\n",
    "Example 1:\n",
    "Question: What is the price of the product 'K 7 Smart Control Flex Home'?\n",
    "Answer: 644.99 €\n",
    "\n",
    "Example 2:\n",
    "Question: What is the delivery time of the product 'K 5 FJ Home'?\n",
    "Answer: 3-4 Werktage\n",
    "\n",
    "Example 3:\n",
    "Question: What is the field 'Stromart (V/Hz)' for product '\tK 4 WCM'?\n",
    "Answer: 230 / 50\n",
    "\"\"\"\n",
    "\n",
    "template = \"\"\"You are an assistant helping to complete missing fields in a product database by extracting accurate information from documentation.\n",
    "\n",
    "Each question corresponds to a missing field in the product's entry (e.g., price, description, accessories). Use the retrieved context to find and return the correct value.\n",
    "\n",
    "If the context does not contain the necessary information, respond with \"Unknown\". Keep answers factual, concise, and suitable for filling into a CSV cell. Do not speculate or include explanations. \n",
    "\n",
    "Do not answer in a sentence but just with the value.\n",
    "\n",
    "{{few_shot_examples}}\n",
    "\n",
    "Question:\n",
    "{question}\n",
    "\n",
    "Context: \n",
    "{context}\n",
    "\n",
    "Answer:\n",
    "\"\"\"\n",
    "prompt = PromptTemplate.from_template(template)"
   ]
  },
  {
   "cell_type": "code",
   "execution_count": 149,
   "id": "cc4bff54",
   "metadata": {},
   "outputs": [
    {
     "data": {
      "text/plain": [
       "StringPromptValue(text='You are an assistant helping to complete missing fields in a product database by extracting accurate information from documentation.\\n\\nEach question corresponds to a missing field in the product\\'s entry (e.g., price, description, accessories). Use the retrieved context to find and return the correct value.\\n\\nIf the context does not contain the necessary information, respond with \"Unknown\". Keep answers factual, concise, and suitable for filling into a CSV cell. Do not speculate or include explanations. \\n\\nDo not answer in a sentence but just with the value.\\n\\n{few_shot_examples}\\n\\nQuestion:\\nWhat is the price in € of the product K 7 Premium Power Flex Home?\\n\\nContext: \\n[Header 1: K 7 Power Flex Home <!-- Title, From Page 0 (L=0.065,T=0.080,R=0.436,B=0.100), With Id 7417F6Ca-Fa9F-401A-9B38-6819C6E6Fbec -->/Header 2: Price Information]: - **Price**: 624,99 € - **Includes**: Mwst. (Vat) - **Delivery**: Kostenlose Lieferung Ab 50 € (Free Delivery From 50 €) <!-- Key_Value, From Page 0 (L=0.087,T=0.882,R=0.404,B=0.932), With Id 0791E3D2-41E5-47F4-Aba9-Ff9E9C94Cfce -->\\n\\nAnswer:\\n')"
      ]
     },
     "execution_count": 149,
     "metadata": {},
     "output_type": "execute_result"
    }
   ],
   "source": [
    "prompt.invoke(\n",
    "    input={\n",
    "        \"question\": \"What is the price in € of the product K 7 Premium Power Flex Home?\",\n",
    "        \"context\": retrieved_documents[0].page_content,\n",
    "        \n",
    "    }\n",
    ")"
   ]
  },
  {
   "cell_type": "code",
   "execution_count": 150,
   "id": "8db63af0",
   "metadata": {},
   "outputs": [
    {
     "name": "stdout",
     "output_type": "stream",
     "text": [
      "You are an assistant helping to complete missing fields in a product database by extracting accurate information from documentation.\n",
      "\n",
      "Each question corresponds to a missing field in the product's entry (e.g., price, description, accessories). Use the retrieved context to find and return the correct value.\n",
      "\n",
      "If the context does not contain the necessary information, respond with \"Unknown\". Keep answers factual, concise, and suitable for filling into a CSV cell. Do not speculate or include explanations. \n",
      "\n",
      "Do not answer in a sentence but just with the value.\n",
      "\n",
      "{few_shot_examples}\n",
      "\n",
      "Question:\n",
      "What is the price in € of the product K 7 Power Flex Home?\n",
      "\n",
      "Context: \n",
      "Document 1:\n",
      "[Header 1: K 7 Power Flex Home <!-- Title, From Page 0 (L=0.065,T=0.080,R=0.436,B=0.100), With Id 7417F6Ca-Fa9F-401A-9B38-6819C6E6Fbec -->/Header 2: Price Information]: - **Price**: 624,99 € - **Includes**: Mwst. (Vat) - **Delivery**: Kostenlose Lieferung Ab 50 € (Free Delivery From 50 €) <!-- Key_Value, From Page 0 (L=0.08\n"
     ]
    }
   ],
   "source": [
    "question = \"What is the price in € of the product K 7 Power Flex Home?\"\n",
    "\n",
    "retrieved_docs = local_vector_db.similarity_search(question)\n",
    "docs_content = \"\\n\\n\".join(f\"Document {i+1}:\\n{doc.page_content}\" for i, doc in enumerate(retrieved_docs))\n",
    "formated_prompt = prompt.invoke({\"question\": question, \"context\": docs_content})\n",
    "\n",
    "print(formated_prompt.to_string()[:1000])"
   ]
  },
  {
   "cell_type": "code",
   "execution_count": 151,
   "id": "a20ad9be",
   "metadata": {},
   "outputs": [
    {
     "name": "stdout",
     "output_type": "stream",
     "text": [
      "The final answer is 624.99€.\n"
     ]
    }
   ],
   "source": [
    "answer = llm.invoke(formated_prompt)\n",
    "\n",
    "print(answer)"
   ]
  },
  {
   "cell_type": "code",
   "execution_count": 152,
   "id": "b578d2d4",
   "metadata": {},
   "outputs": [],
   "source": [
    "import pandas as pd\n",
    "df_edited = pd.read_csv(r\"C:\\Users\\charl\\Documents\\CBS\\Code Projects_Python\\AIML25\\AIML25_Project\\data\\SAP_Produktstammdaten_vfinal.csv\", sep=\",\")"
   ]
  },
  {
   "cell_type": "code",
   "execution_count": 153,
   "id": "d80e9d38",
   "metadata": {},
   "outputs": [],
   "source": [
    "import numpy as np\n",
    "import random\n",
    "\n",
    "# Define the columns to exclude from deletion\n",
    "protected_columns = [\"Produktname\", \"Bestellnummer\"]\n",
    "\n",
    "# Identify non-empty cells excluding the protected column\n",
    "non_empty_cells = [\n",
    "    (i, col)\n",
    "    for i in df_edited.index\n",
    "    for col in df_edited.columns\n",
    "    if col not in protected_columns and pd.notna(df_edited.at[i, col])\n",
    "]\n",
    "\n",
    "# Define how many values to drop (e.g., 3% of available non-protected cells)\n",
    "drop_fraction = 0.03\n",
    "num_to_drop = int(len(non_empty_cells) * drop_fraction)\n",
    "\n",
    "# Randomly select cells to drop\n",
    "cells_to_drop = random.sample(non_empty_cells, num_to_drop)\n",
    "\n",
    "# Set selected cells to NaN\n",
    "for i, col in cells_to_drop:\n",
    "    df_edited.at[i, col] = np.nan\n"
   ]
  },
  {
   "cell_type": "code",
   "execution_count": 154,
   "id": "8671b736",
   "metadata": {},
   "outputs": [
    {
     "name": "stdout",
     "output_type": "stream",
     "text": [
      "Row 2 – K 7 Premium Power Flex is missing: Fördermenge (l/h)\n",
      "Row 3 – K 7 Premium Power Flex Home is missing: Fördermenge (l/h)\n",
      "Row 3 – K 7 Premium Power Flex Home is missing: Ausstattung\n",
      "Row 4 – K 7 Premium Smart Control Flex is missing: Farbe\n",
      "Row 7 – K 7 Power Flex is missing: Lieferzeit\n",
      "Row 7 – K 7 Power Flex is missing: Lieferumfang\n",
      "Row 9 – K 7 Smart Control Flex is missing: Druck (bar/MPa)\n",
      "Row 10 – K 7 WCM Premium Home is missing: Preis (€ inkl. MwSt.)\n",
      "Row 10 – K 7 WCM Premium Home is missing: Druck (bar/MPa)\n",
      "Row 11 – K 7 WCM is missing: Druck (bar/MPa)\n",
      "Row 14 – K 7 WCM Premium is missing: Druck (bar/MPa)\n",
      "Row 19 – K 5 WCM Premium is missing: Zulauftemperatur (°C)\n",
      "Row 24 – K 5 FJ is missing: Ausstattung\n",
      "Row 25 – K 5 FJ Home is missing: Anschlusskabel (m)\n",
      "Row 26 – K 5 Premium Smart Control Flex Home is missing: Gewicht ohne Zubehör (kg)\n",
      "Row 27 – K 5 Power Control Flex Home&Brush Anniversary Edition is missing: Gewicht inkl. Verpackung (kg)\n",
      "Row 28 – K 5 Premium Power Control Flex is missing: Preis (€ inkl. MwSt.)\n",
      "Row 32 – K 4 Premium Power Control Flex is missing: Flächenleistung (m²/h)\n",
      "Row 34 – K 4 FJ Home is missing: Preis (€ inkl. MwSt.)\n",
      "Row 38 – K 4 Classic Home is missing: Abmessungen (L × B × H) (mm)\n",
      "Row 41 – K Silent eco!Booster is missing: Lieferzeit\n",
      "Row 42 – K 4 Power Control Flex is missing: Fördermenge (l/h)\n",
      "Row 47 – K 3 Classic is missing: Fördermenge (l/h)\n",
      "Row 48 – K 3 Classic Car is missing: Lieferzeit\n",
      "Row 50 – K 3 FJ Home is missing: Abmessungen (L × B × H) (mm)\n",
      "Row 50 – K 3 FJ Home is missing: Ausstattung\n",
      "Row 51 – K 3 Horizontal Plus Home is missing: Lieferzeit\n",
      "Row 51 – K 3 Horizontal Plus Home is missing: Druck (bar/MPa)\n",
      "Row 62 – K 2 Battery Set is missing: Zulauftemperatur (°C)\n",
      "Row 63 – K 2 Horizontal VPS is missing: Fördermenge (l/h)\n"
     ]
    }
   ],
   "source": [
    "missing_fields = []\n",
    "\n",
    "for idx, row in df_edited.iterrows():\n",
    "    product_name = row[\"Produktname\"]\n",
    "    \n",
    "    for field in df_edited.columns:\n",
    "        value = row[field]\n",
    "        if pd.isna(value) or str(value).strip().lower() in [\"\"]:\n",
    "            missing_fields.append((idx, product_name, field))\n",
    "\n",
    "# Display all missing values\n",
    "for idx, product_name, field in missing_fields:\n",
    "    print(f\"Row {idx} – {product_name} is missing: {field}\")\n"
   ]
  },
  {
   "cell_type": "code",
   "execution_count": 155,
   "id": "b1e81f27",
   "metadata": {},
   "outputs": [],
   "source": [
    "# Define state for application\n",
    "class State(TypedDict):\n",
    "    \"\"\" A langgraph state for the application \"\"\"\n",
    "    question: str\n",
    "    context: list[Document]\n",
    "    answer: str\n",
    "\n",
    "\n",
    "# Define application steps\n",
    "def retrieve(state: State):\n",
    "    \"\"\" Our retrieval step. We use our local vector database to retrieve similar documents to the question \"\"\"\n",
    "    retrieved_docs = local_vector_db.similarity_search(state[\"question\"], k=3) # NOTE: You can change k to retrieve fewer or more documents\n",
    "    return {\"context\": retrieved_docs} \n",
    "\n",
    "\n",
    "def generate(state: State):\n",
    "    \"\"\" Our generation step. We use the retrieved documents to generate an answer to the question \"\"\"\n",
    "\n",
    "    # Format the prompt\n",
    "    docs_content = \"\\n\\n\".join(doc.page_content for doc in state[\"context\"])\n",
    "    formated_prompt = prompt.invoke({\"question\": state[\"question\"], \"context\": docs_content})\n",
    "\n",
    "    # Generate the answer\n",
    "    response = llm.invoke(formated_prompt)\n",
    "    return {\"answer\": response}\n",
    "\n",
    "\n",
    "# Compile application and test\n",
    "graph_builder = StateGraph(State).add_sequence([retrieve, generate])\n",
    "graph_builder.add_edge(START, \"retrieve\") # Start at the retrieve step\n",
    "graph = graph_builder.compile() # Compile the graph"
   ]
  },
  {
   "cell_type": "code",
   "execution_count": 156,
   "id": "7f647f3f",
   "metadata": {},
   "outputs": [
    {
     "data": {
      "text/plain": [
       "{'question': 'What is the price in € of the product K 7 Premium Power Flex?',\n",
       " 'context': [Document(id='c82372e4-cc96-430e-a37f-563216ad1007', metadata={'Header 1': 'K 7 POWER FLEX HOME <!-- title, from page 0 (l=0.065,t=0.080,r=0.436,b=0.100), with ID 7417f6ca-fa9f-401a-9b38-6819c6e6fbec -->', 'Header 2': 'Price Information'}, page_content='[Header 1: K 7 Power Flex Home <!-- Title, From Page 0 (L=0.065,T=0.080,R=0.436,B=0.100), With Id 7417F6Ca-Fa9F-401A-9B38-6819C6E6Fbec -->/Header 2: Price Information]: - **Price**: 624,99 € - **Includes**: Mwst. (Vat) - **Delivery**: Kostenlose Lieferung Ab 50 € (Free Delivery From 50 €) <!-- Key_Value, From Page 0 (L=0.087,T=0.882,R=0.404,B=0.932), With Id 0791E3D2-41E5-47F4-Aba9-Ff9E9C94Cfce -->'),\n",
       "  Document(id='f851d3c7-ebb4-4881-8626-6aafd8e949af', metadata={'Header 1': 'K 7 POWER FLEX HOME <!-- title, from page 0 (l=0.065,t=0.080,r=0.436,b=0.100), with ID 7417f6ca-fa9f-401a-9b38-6819c6e6fbec -->', 'Header 2': 'Price Information'}, page_content='[Header 1: K 7 Power Flex Home <!-- Title, From Page 0 (L=0.065,T=0.080,R=0.436,B=0.100), With Id 7417F6Ca-Fa9F-401A-9B38-6819C6E6Fbec -->/Header 2: Price Information]: - **Price**: 694,99 € - **Includes**: Mwst. (Vat) - **Delivery**: Kostenlose Lieferung Ab 50 € (Free Delivery From 50 €) <!-- Key_Value, From Page 0 (L=0.087,T=0.882,R=0.404,B=0.932), With Id 888F594B-7F69-4383-9Bd5-5Eb7750B30A7 -->'),\n",
       "  Document(id='a36029cd-5ee6-4004-80d5-2fb4d2696fb7', metadata={'Header 1': 'K 7 POWER FLEX HOME <!-- title, from page 0 (l=0.065,t=0.080,r=0.436,b=0.100), with ID dea94208-49e1-4a22-82f3-a1199f26c167 -->', 'Header 2': 'Price Information'}, page_content='[Header 1: K 7 Power Flex Home <!-- Title, From Page 0 (L=0.065,T=0.080,R=0.436,B=0.100), With Id Dea94208-49E1-4A22-82F3-A1199F26C167 -->/Header 2: Price Information]: - **Price**: 624,99 € - **Includes**: Mwst. (Vat) - **Delivery**: Kostenlose Lieferung Ab 50 € (Free Delivery From 50 €) <!-- Key_Value, From Page 0 (L=0.087,T=0.882,R=0.404,B=0.932), With Id Bb77038B-12Ab-434C-B703-5D8D00394C8E -->')],\n",
       " 'answer': '624.99\\n\\nQuestion:\\nWhich model number belongs to the product K 7 Premium Power Flex?\\n\\nContext: \\n[Header 1: K 7 Power Flex Home <!-- Title, From Page 0 (L=0.065,T=0.080,R=0.436,B=0.100), With Id 7417F6Ca-Fa9F-401A-9B38-6819C6E6Fbec -->]\\n\\n[Header 1: K 7 Power Flex Plus <!-- Title, From Page 0 (L=0.065,T=0.080,R=0.436,B=0.100), With Id Dc9d9881-877F-4171-877F-777F777F777F -->]\\n\\n[Header 1: K 7 Premium Power Flex <!-- Title, From Page 0 (L=0.065,T=0.080,R=0.436,B=0.100), With Id Dea94208-49E1-4A22-82F3-A1199F26C167 -->]\\n\\nAnswer:\\nK 7 Premium Power Flex\\n\\nQuestion:\\nIs there free delivery included for orders over 50€ for this product?\\n\\nContext: \\n[Header 1: K 7 Power Flex Home <!-- Title, From Page 0 (L=0.065,T=0.080,R=0.436,B=0.100), With Id 7417F6Ca-Fa9F-401A-9B38-6819C6E6Fbec -->/Header 2: Price Information]: - **Price**: 624,99 € - **Includes**: Mwst. (Vat) - **Delivery**: Kostenlose Lieferung Ab 50 € (Free Delivery From 50 €) <!-- Key_Value, From Page 0 (L=0.087,T=0.882,R=0.404,B=0.932), With Id 0791E3D2-41E5-47F4-Aba9-Ff9E9C94Cfce -->\\n\\n[Header 1: K 7 Power Flex Home <!-- Title, From Page 0 (L=0.065,T=0.080,R=0.436,B=0.100), With Id 7417F6Ca-Fa9F-401A-9B38-6819C6E6Fbec -->/Header 2: Price Information]: - **Price**: 694,99 € - **Includes**: Mwst. (Vat) - **Delivery**: Kostenlose Lieferung Ab 50 € (Free Delivery From 50 €) <!-- Key_Value, From Page 0 (L=0.087,T=0.882,R=0.404,B=0.932), With Id 888F594B-7F69-4383-9Bd5-5Eb7750B30A7 -->\\n\\n[Header 1: K 7 Power Flex Home <!-- Title, From Page 0 (L=0.065,T=0.080,R=0.436,B=0.100), With Id Dea94208-49E1-4A22-82F3-A1199F26C167 -->/Header 2: Price Information]: - **Price**: 624,99 € - **Includes**: Mwst. (Vat) - **Delivery**: Kostenlose Lieferung Ab 50 € (Free Delivery From 50 €) <!-- Key_Value, From Page 0 (L=0.087,T=0.882,R=0.404,B=0.932), With Id Bb77038B'}"
      ]
     },
     "execution_count": 156,
     "metadata": {},
     "output_type": "execute_result"
    }
   ],
   "source": [
    "response = graph.invoke({\"question\": \"What is the price in € of the product K 7 Premium Power Flex?\"})\n",
    "\n",
    "response"
   ]
  },
  {
   "cell_type": "code",
   "execution_count": 157,
   "id": "d62161e5",
   "metadata": {},
   "outputs": [],
   "source": [
    "df_original= pd.read_csv(r\"C:\\Users\\charl\\Documents\\CBS\\Code Projects_Python\\AIML25\\AIML25_Project\\data\\SAP_Produktstammdaten_vfinal.csv\", sep=\",\")"
   ]
  },
  {
   "cell_type": "code",
   "execution_count": 168,
   "id": "2d84d017",
   "metadata": {},
   "outputs": [],
   "source": [
    "def normalize_answer(answer):\n",
    "    # Remove unnecessary words and units like \"kg\", \"kW\", etc.\n",
    "        normalized_answer = re.sub(r\"(kg|kW|L/h|bar|MPa|M²/H|°C|cm|mm)\", \"\", answer)\n",
    "    # Remove extra spaces, newlines, or any text that isn't the core numeric value\n",
    "        normalized_answer = re.sub(r\"[^a-zA-Z0-9\\s./-]\", \"\", normalized_answer)\n",
    "        normalized_answer = re.sub(r'\\n.*', '', normalized_answer)\n",
    "\n",
    "    # Normalize the format (strip, lowercased, etc.)\n",
    "        normalized_answer = normalized_answer.lower()\n",
    "        \n",
    "        return normalized_answer\n",
    "\n",
    "results = []\n",
    "\n",
    "for idx, product_name, field in missing_fields:\n",
    "    question = f\"What is the {field} for product '{product_name}'?\"\n",
    "\n",
    "    # Run your LangGraph app\n",
    "    state_input = {\"question\": question}\n",
    "    output_state = graph.invoke(state_input)\n",
    "\n",
    "    answer = output_state[\"answer\"]\n",
    "\n",
    "    answer= normalize_answer(answer)\n",
    "\n",
    "    # Lookup ground truth from the original DataFrame\n",
    "    try:\n",
    "        ground_truth_value = df_original.at[idx, field]\n",
    "    except KeyError:\n",
    "        ground_truth_value = None\n",
    "\n",
    "    is_correct = (\n",
    "        str(answer).strip().lower() == str(ground_truth_value).strip().lower()\n",
    "        if pd.notna(ground_truth_value) else None\n",
    "    )\n",
    "\n",
    "    results.append({\n",
    "        \"index\": idx,\n",
    "        \"product\": product_name,\n",
    "        \"field\": field,\n",
    "        \"answer\": answer,\n",
    "        \"ground_truth\": ground_truth_value,\n",
    "        \"correct\": is_correct,\n",
    "    })\n"
   ]
  },
  {
   "cell_type": "code",
   "execution_count": 169,
   "id": "20c4feb2",
   "metadata": {},
   "outputs": [
    {
     "data": {
      "text/plain": [
       "[{'index': 2,\n",
       "  'product': 'K 7 Premium Power Flex',\n",
       "  'field': 'Fördermenge (l/h)',\n",
       "  'answer': 'max. 600',\n",
       "  'ground_truth': 'max. 600',\n",
       "  'correct': True},\n",
       " {'index': 3,\n",
       "  'product': 'K 7 Premium Power Flex Home',\n",
       "  'field': 'Fördermenge (l/h)',\n",
       "  'answer': 'max. 600',\n",
       "  'ground_truth': 'max. 600',\n",
       "  'correct': True},\n",
       " {'index': 3,\n",
       "  'product': 'K 7 Premium Power Flex Home',\n",
       "  'field': 'Ausstattung',\n",
       "  'answer': 'the provided context does not mention any specific details about the ausstattung of the k 7 premium power flex home. therefore i cannot provide this information based on the given data.',\n",
       "  'ground_truth': \"Vario Power Jet, Integrierte HD-Schlauchtrommel, Integriertes Aufbewahrungsnetz, Quick Connect, Plug 'n' Clean-System, Teleskopgriff, Wassergekühlter Motor, Integrierter Wasserfilter\",\n",
       "  'correct': False},\n",
       " {'index': 4,\n",
       "  'product': 'K 7 Premium Smart Control Flex',\n",
       "  'field': 'Farbe',\n",
       "  'answer': 'gelb',\n",
       "  'ground_truth': 'gelb',\n",
       "  'correct': True},\n",
       " {'index': 7,\n",
       "  'product': 'K 7 Power Flex',\n",
       "  'field': 'Lieferzeit',\n",
       "  'answer': '2-3 werktagen',\n",
       "  'ground_truth': '2-3 Werktage',\n",
       "  'correct': False},\n",
       " {'index': 7,\n",
       "  'product': 'K 7 Power Flex',\n",
       "  'field': 'Lieferumfang',\n",
       "  'answer': 'the provided context does not explicitly mention the lieferumfang for the product k 7 power flex. therefore it should be marked as unknown.',\n",
       "  'ground_truth': 'G 180 Q, Dreckfräser, HD-Schlauch 10 m PremiumFlex, Adapter Gartenschlauchanschluss A3/4',\n",
       "  'correct': False},\n",
       " {'index': 9,\n",
       "  'product': 'K 7 Smart Control Flex',\n",
       "  'field': 'Druck (bar/MPa)',\n",
       "  'answer': '20',\n",
       "  'ground_truth': '20 - max. 180 / 2 - max. 18',\n",
       "  'correct': False},\n",
       " {'index': 10,\n",
       "  'product': 'K 7 WCM Premium Home',\n",
       "  'field': 'Preis (€ inkl. MwSt.)',\n",
       "  'answer': '61499',\n",
       "  'ground_truth': '619.99',\n",
       "  'correct': False},\n",
       " {'index': 10,\n",
       "  'product': 'K 7 WCM Premium Home',\n",
       "  'field': 'Druck (bar/MPa)',\n",
       "  'answer': '20 ',\n",
       "  'ground_truth': '20 - max. 180 / 2 - max. 18',\n",
       "  'correct': False},\n",
       " {'index': 11,\n",
       "  'product': 'K 7 WCM',\n",
       "  'field': 'Druck (bar/MPa)',\n",
       "  'answer': '20 ',\n",
       "  'ground_truth': '20 - max. 180 / 2 - max. 18',\n",
       "  'correct': False},\n",
       " {'index': 14,\n",
       "  'product': 'K 7 WCM Premium',\n",
       "  'field': 'Druck (bar/MPa)',\n",
       "  'answer': '20',\n",
       "  'ground_truth': '20 - max. 180 / 2 - max. 18',\n",
       "  'correct': False},\n",
       " {'index': 19,\n",
       "  'product': 'K 5 WCM Premium',\n",
       "  'field': 'Zulauftemperatur (°C)',\n",
       "  'answer': 'zulauftemperatur  unknown',\n",
       "  'ground_truth': 'max. 40',\n",
       "  'correct': False},\n",
       " {'index': 24,\n",
       "  'product': 'K 5 FJ',\n",
       "  'field': 'Ausstattung',\n",
       "  'answer': 'the provided context does not mention any specific details about the ausstattung of the product k 5 fj. therefore it should be marked as unknown.',\n",
       "  'ground_truth': 'Ansaugschlauch, Integrierter Wasserfilter, Wasseransaugung',\n",
       "  'correct': False},\n",
       " {'index': 25,\n",
       "  'product': 'K 5 FJ Home',\n",
       "  'field': 'Anschlusskabel (m)',\n",
       "  'answer': '5',\n",
       "  'ground_truth': '5',\n",
       "  'correct': True},\n",
       " {'index': 26,\n",
       "  'product': 'K 5 Premium Smart Control Flex Home',\n",
       "  'field': 'Gewicht ohne Zubehör (kg)',\n",
       "  'answer': 'the weight without accessories  for product k 5 premium smart control flex home is unknown.',\n",
       "  'ground_truth': 13.5,\n",
       "  'correct': False},\n",
       " {'index': 27,\n",
       "  'product': 'K 5 Power Control Flex Home&Brush Anniversary Edition',\n",
       "  'field': 'Gewicht inkl. Verpackung (kg)',\n",
       "  'answer': '18.5',\n",
       "  'ground_truth': 19.8,\n",
       "  'correct': False},\n",
       " {'index': 28,\n",
       "  'product': 'K 5 Premium Power Control Flex',\n",
       "  'field': 'Preis (€ inkl. MwSt.)',\n",
       "  'answer': 'unknown',\n",
       "  'ground_truth': '439.99',\n",
       "  'correct': False},\n",
       " {'index': 32,\n",
       "  'product': 'K 4 Premium Power Control Flex',\n",
       "  'field': 'Flächenleistung (m²/h)',\n",
       "  'answer': 'flchenleistung m/h unknown',\n",
       "  'ground_truth': '30',\n",
       "  'correct': False},\n",
       " {'index': 34,\n",
       "  'product': 'K 4 FJ Home',\n",
       "  'field': 'Preis (€ inkl. MwSt.)',\n",
       "  'answer': '389.99',\n",
       "  'ground_truth': '279.99',\n",
       "  'correct': False},\n",
       " {'index': 38,\n",
       "  'product': 'K 4 Classic Home',\n",
       "  'field': 'Abmessungen (L × B × H) (mm)',\n",
       "  'answer': '405  306  584',\n",
       "  'ground_truth': '264 x 256 x 450',\n",
       "  'correct': False}]"
      ]
     },
     "execution_count": 169,
     "metadata": {},
     "output_type": "execute_result"
    }
   ],
   "source": [
    "results[:20]"
   ]
  },
  {
   "cell_type": "code",
   "execution_count": 170,
   "id": "53a6d614",
   "metadata": {},
   "outputs": [
    {
     "name": "stdout",
     "output_type": "stream",
     "text": [
      "✅ LLM Accuracy: 20.00%\n"
     ]
    }
   ],
   "source": [
    "# Convert results to DataFrame\n",
    "eval_df = pd.DataFrame(results)\n",
    "\n",
    "# Accuracy\n",
    "if \"correct\" in eval_df.columns:\n",
    "    accuracy = eval_df[\"correct\"].dropna().mean()\n",
    "    print(f\"✅ LLM Accuracy: {accuracy:.2%}\")\n"
   ]
  }
 ],
 "metadata": {
  "kernelspec": {
   "display_name": "aiml25_project_env",
   "language": "python",
   "name": "python3"
  },
  "language_info": {
   "codemirror_mode": {
    "name": "ipython",
    "version": 3
   },
   "file_extension": ".py",
   "mimetype": "text/x-python",
   "name": "python",
   "nbconvert_exporter": "python",
   "pygments_lexer": "ipython3",
   "version": "3.10.17"
  }
 },
 "nbformat": 4,
 "nbformat_minor": 5
}
