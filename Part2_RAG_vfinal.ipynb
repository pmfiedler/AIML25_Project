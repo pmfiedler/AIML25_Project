{
 "cells": [
  {
   "cell_type": "markdown",
   "id": "142364c6-14a7-4540-89cb-845812f23f6c",
   "metadata": {},
   "source": [
    "# Part 2: RAG\n"
   ]
  },
  {
   "cell_type": "markdown",
   "id": "ce06a4ee",
   "metadata": {},
   "source": [
    "## 1. Import"
   ]
  },
  {
   "cell_type": "code",
   "execution_count": 1,
   "id": "d66f7678-dd7b-48bf-8bc1-f81b6c52f459",
   "metadata": {},
   "outputs": [],
   "source": [
    "from typing import Literal, Any\n",
    "from copy import deepcopy\n",
    "\n",
    "from typing_extensions import TypedDict\n",
    "import matplotlib.pyplot as plt\n",
    "import numpy as np\n",
    "import random\n",
    "from decouple import config\n",
    "from pydantic import BaseModel, Field\n",
    "from IPython.display import Image, display\n",
    "from tqdm import tqdm\n",
    "from dotenv import load_dotenv\n",
    "\n",
    "from langchain_chroma import Chroma\n",
    "from langchain_core.documents import Document\n",
    "from langchain_community.document_loaders import TextLoader\n",
    "from langchain_text_splitters.markdown import MarkdownHeaderTextSplitter\n",
    "from langchain.prompts import PromptTemplate\n",
    "from langchain_ibm import WatsonxEmbeddings\n",
    "from langchain_ibm import WatsonxLLM\n",
    "from langgraph.graph import START, StateGraph\n",
    "from ibm_watsonx_ai.metanames import GenTextParamsMetaNames as GenParams\n",
    "from langchain_text_splitters import RecursiveCharacterTextSplitter\n",
    "\n",
    "import litellm\n",
    "from litellm import completion\n",
    "import instructor\n",
    "from instructor import Mode\n",
    "\n",
    "import pandas as pd\n",
    "import os\n",
    "import re"
   ]
  },
  {
   "cell_type": "markdown",
   "id": "cb72fc95",
   "metadata": {},
   "source": [
    "## 2. Load API key and model setup"
   ]
  },
  {
   "cell_type": "code",
   "execution_count": 2,
   "id": "186fff4d-25c2-4b78-a4f1-634fea386b5d",
   "metadata": {},
   "outputs": [
    {
     "name": "stdout",
     "output_type": "stream",
     "text": [
      "True\n"
     ]
    }
   ],
   "source": [
    "print(os.path.exists(\".env\")) "
   ]
  },
  {
   "cell_type": "code",
   "execution_count": 3,
   "id": "d45980aa",
   "metadata": {},
   "outputs": [
    {
     "name": "stdout",
     "output_type": "stream",
     "text": [
      "API Key Loaded Successfully\n"
     ]
    }
   ],
   "source": [
    "# Load .env file\n",
    "load_dotenv() \n",
    "\n",
    "# Get the API key\n",
    "WX_API_KEY = os.getenv('WX_API_KEY')\n",
    "WX_PROJECT_ID = os.getenv('WX_Project_ID')\n",
    "\n",
    "if WX_API_KEY:\n",
    "    print(\"API Key Loaded Successfully\")\n",
    "else:\n",
    "    print(\"API Key Not Found! Check your .env file.\")\n",
    "\n",
    "WX_API_URL = \"https://us-south.ml.cloud.ibm.com\"\n"
   ]
  },
  {
   "cell_type": "code",
   "execution_count": 4,
   "id": "d5811af8-8cd3-4e19-8d01-a422c6239e07",
   "metadata": {},
   "outputs": [],
   "source": [
    "llm = WatsonxLLM(\n",
    "\n",
    "        model_id= \"ibm/granite-3-8b-instruct\",\n",
    "        url=WX_API_URL,\n",
    "        apikey=WX_API_KEY,\n",
    "        project_id=WX_PROJECT_ID,\n",
    "\n",
    "        params={\n",
    "            GenParams.DECODING_METHOD: \"greedy\",\n",
    "            GenParams.TEMPERATURE: 0,\n",
    "            GenParams.MIN_NEW_TOKENS: 5,\n",
    "            GenParams.MAX_NEW_TOKENS: 1_000,\n",
    "            GenParams.REPETITION_PENALTY:1.2\n",
    "        }\n",
    "\n",
    ")"
   ]
  },
  {
   "cell_type": "code",
   "execution_count": 5,
   "id": "8d63610e-8e66-47ca-bdc6-315f49b6bee8",
   "metadata": {},
   "outputs": [
    {
     "name": "stdout",
     "output_type": "stream",
     "text": [
      "<class 'langchain_core.outputs.llm_result.LLMResult'>\n",
      "generations=[[Generation(text=\"\\nI'm an artificial intelligence and don't have feelings, but I'm here to help you. How can I assist you today?\", generation_info={'finish_reason': 'eos_token'})]] llm_output={'token_usage': {'generated_token_count': 31, 'input_token_count': 5}, 'model_id': 'ibm/granite-3-8b-instruct', 'deployment_id': None} run=[RunInfo(run_id=UUID('fb0b6db9-a24c-4c49-9891-2c694a7c3c52'))] type='LLMResult'\n"
     ]
    }
   ],
   "source": [
    "llm_result = llm.generate([\"Hi how are you?\"])\n",
    "\n",
    "print(type(llm_result))\n",
    "print(llm_result)"
   ]
  },
  {
   "cell_type": "markdown",
   "id": "0eeeaa67",
   "metadata": {},
   "source": [
    "## 3. Load the markdown file"
   ]
  },
  {
   "cell_type": "code",
   "execution_count": 6,
   "id": "dd66c040-298e-463a-bf18-e31efd3b22ea",
   "metadata": {},
   "outputs": [
    {
     "data": {
      "text/plain": [
       "{'source': 'C:\\\\Users\\\\charl\\\\Documents\\\\CBS\\\\Code Projects_Python\\\\AIML25\\\\AIML25_Project\\\\parsed_markdown\\\\consolidated_markdown_data.md'}"
      ]
     },
     "execution_count": 6,
     "metadata": {},
     "output_type": "execute_result"
    }
   ],
   "source": [
    "\n",
    "document = TextLoader(r\"C:\\Users\\charl\\Documents\\CBS\\Code Projects_Python\\AIML25\\AIML25_Project\\parsed_markdown\\consolidated_markdown_data.md\").load()[0]\n",
    "document.metadata"
   ]
  },
  {
   "cell_type": "markdown",
   "id": "2fcc4a68",
   "metadata": {},
   "source": [
    "## 4. Chunking the data from the markdown"
   ]
  },
  {
   "cell_type": "code",
   "execution_count": 7,
   "id": "b33d1285",
   "metadata": {},
   "outputs": [],
   "source": [
    "#find product headers in Header 2 (##) and promote to Header 1 (#)\n",
    "def normalize_markdown_headers(text):\n",
    "    lines = text.split('\\n') #splitting the text by each line\n",
    "    normalized_lines = []\n",
    "    for line in lines:\n",
    "        if re.match(r'#{2,3}\\s+K\\s*\\d+.*', line):  #searches for a format of the product name (##\\s+ = header 2, K\\s*\\d+ = the letter K followed by a space and at least 1 digit)\n",
    "            line = '# ' + line.lstrip('#').strip()  #promotes the found line to Header 1\n",
    "        normalized_lines.append(line)\n",
    "    return '\\n'.join(normalized_lines)\n"
   ]
  },
  {
   "cell_type": "code",
   "execution_count": 8,
   "id": "a410d210-bca1-486e-84f5-65569ea3be26",
   "metadata": {},
   "outputs": [],
   "source": [
    "normalized_content = normalize_markdown_headers(document.page_content)\n",
    "\n",
    "#splitting the markdown file based on headers\n",
    "headers_to_split_on = [(\"#\", \"Header 1\"),(\"##\", \"Header 2\"), (\"###\", \"Header 3\")]\n",
    "markdown_splitter = MarkdownHeaderTextSplitter(headers_to_split_on=headers_to_split_on)\n",
    "header_chunks = markdown_splitter.split_text(normalized_content)\n",
    "\n",
    "#each header chunk is then split again by token size\n",
    "token_splitter = RecursiveCharacterTextSplitter(chunk_size=500, chunk_overlap=50)\n",
    "\n",
    "#applying the token-based split by looping through each header chunk\n",
    "final_chunks = []\n",
    "for chunk in header_chunks:\n",
    "    sub_chunks = token_splitter.split_text(chunk.page_content)\n",
    "    for sub_chunk in sub_chunks:\n",
    "        final_chunks.append(Document(page_content=sub_chunk, metadata=chunk.metadata))\n",
    "\n"
   ]
  },
  {
   "cell_type": "code",
   "execution_count": 9,
   "id": "c72ebffe-1568-4e64-9072-c99373ec46b2",
   "metadata": {},
   "outputs": [],
   "source": [
    "#filtering out content under the header \"page footer\"/\"page header\"/\"page number\" or data that is mostly links\n",
    "filtered_chunks = []\n",
    "for chunk in final_chunks:\n",
    "    is_footer = (\n",
    "    chunk.metadata.get(\"Header 2\") == 'Page Header' or\n",
    "    chunk.metadata.get(\"Header 2\") == \"Page Footer\" or\n",
    "    chunk.metadata.get(\"Header 2\") == \"Page Number\"\n",
    ")\n",
    "    \n",
    "\n",
    "    if is_footer:\n",
    "        continue  \n",
    "    filtered_chunks.append(chunk)\n"
   ]
  },
  {
   "cell_type": "code",
   "execution_count": 10,
   "id": "1a945fd3-a375-4fdf-8e9f-77c7d0ca35a6",
   "metadata": {},
   "outputs": [
    {
     "name": "stdout",
     "output_type": "stream",
     "text": [
      "FOUND in chunk 1984:\n",
      "574,99 € <!-- text, from page 0 (l=0.089,t=0.882,r=0.251,b=0.907), with ID d921a42c-dd4f-4fd7-99a0-2d2839878787 -->\n",
      "\n",
      "FOUND in chunk 2200:\n",
      "- **Price**: 574,99 €\n",
      "- **Includes**: MwSt. (Mehrwertsteuer)\n",
      "- **Delivery**: kostenlose Lieferung ab 50 € <!-- text, from page 0 (l=0.087,t=0.882,r=0.404,b=0.932), with ID 33768bdd-fdd2-4b49-a931-9860c75eebb6 -->\n",
      "\n"
     ]
    }
   ],
   "source": [
    "#testing to find a value in the chunks\n",
    "for i, chunk in enumerate(filtered_chunks):\n",
    "    if \"574,99 €\" in chunk.page_content:\n",
    "        print(f\"FOUND in chunk {i}:\\n{chunk.page_content}\\n\")"
   ]
  },
  {
   "cell_type": "code",
   "execution_count": 11,
   "id": "046c8bb5-dd41-49e6-966f-701fb33ea7c2",
   "metadata": {},
   "outputs": [
    {
     "data": {
      "text/plain": [
       "[Document(metadata={}, page_content='<!-- ===== K 2 Battery _ Kärcher.md ===== -->'),\n",
       " Document(metadata={'Header 1': 'K 2 BATTERY'}, page_content='Der leistungsstarke Akku-Hochdruckreiniger K 2 Battery für vielseitige, flexible Einsätze ohne Stromanschluss. 36-V-Wechselakku und Ladegerät sind als Sonderzubehör separat erhältlich. <!-- text, from page 0 (l=0.064,t=0.080,r=0.932,b=0.148), with ID 329efb5d-cc5e-4ef2-8d0a-9f47c52857eb -->'),\n",
       " Document(metadata={'Header 1': 'K 2 BATTERY', 'Header 3': 'Description'}, page_content='The image shows a yellow and black pressure washer from the brand Kärcher. It is a compact, portable model with a handle at the top for easy carrying. The device features a battery compartment at the top, indicating it is battery-operated. The Kärcher logo is prominently displayed on the front.  \\n#### Key Features:  \\n- **Color**: Predominantly yellow with black accents.\\n- **Design**:\\n- The pressure washer has a sturdy handle for portability.'),\n",
       " Document(metadata={'Header 1': 'K 2 BATTERY', 'Header 3': 'Description'}, page_content='- A battery compartment is visible at the top, suggesting it is cordless.\\n- The front panel includes a circular connector for attaching hoses or accessories.\\n- **Accessories**:\\n- Two black spray lances are included, each with different nozzle designs for varied cleaning tasks.\\n- One lance appears to have a rotating nozzle for more intense cleaning, while the other has a standard spray tip.'),\n",
       " Document(metadata={'Header 1': 'K 2 BATTERY', 'Header 3': 'Description'}, page_content='This pressure washer is likely designed for home use, suitable for cleaning cars, patios, and other outdoor surfaces. The inclusion of a battery suggests it is intended for convenience and ease of use without the need for a direct power source. <!-- figure, from page 0 (l=0.065,t=0.193,r=0.934,b=0.867), with ID 5b68f41f-10ae-4bdd-b8e6-79dcdd14f4cb -->'),\n",
       " Document(metadata={'Header 1': 'K 2 BATTERY', 'Header 3': 'Price Information'}, page_content='- **Price**: 209,99 €\\n- **Details**: inkl. MwSt. - kostenlose Lieferung ab 50 € <!-- text, from page 0 (l=0.087,t=0.882,r=0.404,b=0.932), with ID 2e3be5a5-40e1-46a2-a339-1ad280d895e0 -->'),\n",
       " Document(metadata={'Header 1': 'K 2 Battery | Kärcher'}, page_content='This is a page header indicating the title \"K 2 Battery | Kärcher\". <!-- page_header, from page 0 (l=0.516,t=0.019,r=0.641,b=0.028), with ID 7cdd7b91-d342-4924-b4d2-426dabc780d6 -->'),\n",
       " Document(metadata={'Header 1': 'K 2 Battery | Kärcher', 'Header 2': 'Document Information'}, page_content='- **Lieferbar in**: 3-4 Werktagen\\n- **Bestellnummer**: 1.117-200.0 <!-- key_value, from page 0 (l=0.087,t=0.037,r=0.300,b=0.069), with ID 63bdf150-c4ba-4430-9358-c5f1e1afe288 -->'),\n",
       " Document(metadata={'Header 1': 'K 2 Battery | Kärcher', 'Header 2': 'Händlersuche'}, page_content='- **Ort oder PLZ**: [ ] <!-- form, from page 0 (l=0.087,t=0.112,r=0.390,b=0.161), with ID e5087e93-d534-45f9-a8a1-412fc6e831fa -->'),\n",
       " Document(metadata={'Header 1': 'K 2 Battery | Kärcher', 'Header 2': 'Händlersuche', 'Header 3': 'Figure Description'}, page_content='The image shows a rating system with the following details:  \\n- **Star Rating**:\\n- There are five stars in total.\\n- The first two stars are filled in yellow, indicating a positive rating.\\n- The remaining three stars are empty, indicating a lack of rating.  \\n- **Numerical Rating**:\\n- The text \"3.1\" is displayed next to the stars, representing the average rating.  \\n- **Number of Reviews**:\\n- The number \"11\" is shown in parentheses, indicating the total number of reviews.  \\n- **Call to Action**:'),\n",
       " Document(metadata={'Header 1': 'K 2 Battery | Kärcher', 'Header 2': 'Händlersuche', 'Header 3': 'Figure Description'}, page_content='- **Call to Action**:\\n- The text \"Jetzt Produkt bewerten\" is present, which translates to \"Rate this product now\" in English. This suggests an invitation for users to submit their own ratings. <!-- figure, from page 0 (l=0.099,t=0.232,r=0.499,b=0.254), with ID a7a6a7f5-84e8-498d-ba42-0fb0d21fe470 -->'),\n",
       " Document(metadata={'Header 1': 'K 2 Battery | Kärcher', 'Header 2': 'Text Information'}, page_content='Benötigen Sie Hilfe?\\nHotline: +49 7195 903 0 <!-- key_value, from page 0 (l=0.087,t=0.343,r=0.270,b=0.369), with ID 7a65d907-e373-4a51-b860-f6203aa3384a -->'),\n",
       " Document(metadata={'Header 1': 'K 2 Battery | Kärcher', 'Header 2': 'Akkubetriebener Hochdruckreiniger'}, page_content='Glänzt auch ohne Stromanschluss: der akkubetriebene Hochdruckreiniger für vielseitige Anwendungsgebiete wie kleinere Autos, Boote, Gartenmöbel, Mülltonnen und weitere kleinere Reinigungsaufgaben rund ums Haus. Dank Standard-, Boost- und Reinigungsmittel-Modus lassen sich die verschiedenen Reinigungsobjekte mit genau dem richtigen Druck bearbeiten. Auf dem analogen Display der Hochdruckpistole wird der gewählte Modus während der Reinigung dauerhaft angezeigt. Die einzelnen Druckstufen können'),\n",
       " Document(metadata={'Header 1': 'K 2 Battery | Kärcher', 'Header 2': 'Akkubetriebener Hochdruckreiniger'}, page_content='angezeigt. Die einzelnen Druckstufen können bequem durch den Wechsel des Strahlrohrs eingestellt werden. Das Gerät ist kompatibel mit dem 36 V / 5,0 Ah Li-Ion Wechselakku aus der 36 V Kärcher Battery Power-Plattform. Akku und Ladegerät sind als Sonderzubehör separat erhältlich. Zudem kann ein Kärcher Ansaugschlauch angeschlossen werden, um Wasser aus alternativen Wasserquellen anzusaugen. <!-- text, from page 0 (l=0.064,t=0.481,r=0.932,b=0.598), with ID c4177278-10a8-43ce-81e3-3f8ddb2f3224 -->'),\n",
       " Document(metadata={'Header 1': 'K 2 Battery | Kärcher <!-- page_header, from page 0 (l=0.515,t=0.019,r=0.641,b=0.028), with ID 2e4b1f0d-bd5d-4beb-a21b-b9f5cd24c9e0 -->', 'Header 2': 'Figure Description'}, page_content='The image shows a close-up of a 36 V Kärcher Battery Power interchangeable battery. The battery is inserted into a device, likely a Kärcher cleaning tool, as indicated by the yellow and black color scheme typical of Kärcher products.'),\n",
       " Document(metadata={'Header 1': 'K 2 Battery | Kärcher <!-- page_header, from page 0 (l=0.515,t=0.019,r=0.641,b=0.028), with ID 2e4b1f0d-bd5d-4beb-a21b-b9f5cd24c9e0 -->', 'Header 2': 'Figure Description', 'Header 3': 'Key Features:'}, page_content='- **Battery Display**:\\n- The battery has a digital display on its front face.\\n- The display shows \"14 min,\" indicating the remaining runtime of the battery.\\n- Below the time, there is a battery icon with three bars, suggesting the current charge level.  \\n- **Design**:\\n- The battery is predominantly black with yellow accents.\\n- The top of the battery has a yellow section with the Kärcher logo.  \\n- **Context**:'),\n",
       " Document(metadata={'Header 1': 'K 2 Battery | Kärcher <!-- page_header, from page 0 (l=0.515,t=0.019,r=0.641,b=0.028), with ID 2e4b1f0d-bd5d-4beb-a21b-b9f5cd24c9e0 -->', 'Header 2': 'Figure Description', 'Header 3': 'Key Features:'}, page_content='- **Context**:\\n- The battery is part of a larger device, visible through the yellow handle surrounding it.\\n- The handle is curved, suggesting it is part of a portable or handheld device.'),\n",
       " Document(metadata={'Header 1': 'K 2 Battery | Kärcher <!-- page_header, from page 0 (l=0.515,t=0.019,r=0.641,b=0.028), with ID 2e4b1f0d-bd5d-4beb-a21b-b9f5cd24c9e0 -->', 'Header 2': 'Figure Description', 'Header 3': 'Additional Information:'}, page_content='- **Text at the Bottom**:\\n- \"36 V Kärcher Battery Power-Wechselakku\" is written, which translates to \"36 V Kärcher Battery Power interchangeable battery\" in English. This indicates the battery\\'s voltage and its interchangeable nature. <!-- figure, from page 0 (l=0.064,t=0.033,r=0.935,b=0.662), with ID 132fc88b-73ef-4376-9847-dd7451abcb2a -->'),\n",
       " Document(metadata={'Header 1': 'K 2 Battery | Kärcher <!-- page_header, from page 0 (l=0.515,t=0.019,r=0.641,b=0.028), with ID 2e4b1f0d-bd5d-4beb-a21b-b9f5cd24c9e0 -->', 'Header 2': 'Real Time Technology mit LCD-Akkudisplay'}, page_content='- **Details**: Restlaufzeit, Restladezeit und Akkukapazität.\\n- **Kompatibilität**: Kompatibel mit allen Geräten der 36 V Kärcher Battery Power-Plattform.\\n- **Features**: Langlebig und leistungsstark dank Lithium-Ionen-Zellen. <!-- text, from page 0 (l=0.064,t=0.669,r=0.887,b=0.696), with ID 341a981f-0017-4687-ad58-ec6e320ee0f3 -->'),\n",
       " Document(metadata={'Header 1': 'K 2 Battery | Kärcher <!-- page_header, from page 0 (l=0.515,t=0.019,r=0.641,b=0.028), with ID cbb42d67-1eb7-427a-9810-e04e66ad2f5b -->', 'Header 2': 'Hochdruckpistole mit Druckstufenanzeige'}, page_content='Verschiedene Strahlrohre ermöglichen 3 Druckstufen für die optimale Reinigung unterschiedlicher Oberflächen. Die Anzeige auf der Hochdruckpistole ermöglicht die einfache Kontrolle der gewählten Druckstufe. <!-- text, from page 0 (l=0.062,t=0.650,r=0.920,b=0.696), with ID e2e36faa-f382-4db6-9f0b-3839357d6296 -->')]"
      ]
     },
     "execution_count": 11,
     "metadata": {},
     "output_type": "execute_result"
    }
   ],
   "source": [
    "filtered_chunks [:20]"
   ]
  },
  {
   "cell_type": "code",
   "execution_count": 12,
   "id": "519eb478-593c-43f4-84e1-6f49731b8149",
   "metadata": {},
   "outputs": [],
   "source": [
    "#adding the header prefic to page content\n",
    "def update_documents_with_headers(chunks):\n",
    "    \n",
    "    updated_chunks = []\n",
    "    max_depth=3  #header 1,2,3\n",
    "    \n",
    "    for doc in chunks:\n",
    "        new_doc = deepcopy(doc)  #creating a deep copy of the document to not modify the original\n",
    "        \n",
    "        #get all headers from the metadata\n",
    "        headers = []\n",
    "        for i in range(1, max_depth + 1):\n",
    "            key = f'Header {i}'\n",
    "            if key in new_doc.metadata:\n",
    "                headers.append(f\"{key}: {new_doc.metadata[key]}\")\n",
    "        \n",
    "        #creating the header prefix and update page_content\n",
    "        if headers:\n",
    "            prefix = f\"[{'/'.join(headers)}]: \"\n",
    "            new_doc.page_content = prefix + \"\\n\" + new_doc.page_content\n",
    "        \n",
    "        updated_chunks.append(new_doc)\n",
    "    \n",
    "    return updated_chunks\n",
    "\n",
    "#applying this function to the filtered chunks\n",
    "docs = update_documents_with_headers(filtered_chunks)"
   ]
  },
  {
   "cell_type": "code",
   "execution_count": 13,
   "id": "43fb772c",
   "metadata": {},
   "outputs": [],
   "source": [
    "#clean the data from urls and sequences of whitespaces and changing the writing, so that only the first letter of each word is capital\n",
    "def clean_content(text):\n",
    "\n",
    "\n",
    "    text = re.sub(r\"http\\S+\", \"\", text)  \n",
    "    text = re.sub(r\"\\s+\", \" \", text).strip()\n",
    "    text = text.title()\n",
    "\n",
    "    return text"
   ]
  },
  {
   "cell_type": "code",
   "execution_count": 14,
   "id": "24f46ec9-60f2-4ea2-8d54-f039b12f1836",
   "metadata": {},
   "outputs": [],
   "source": [
    "# apply clean_content to each document's page_content\n",
    "for doc in docs:\n",
    "    doc.page_content = clean_content(doc.page_content)"
   ]
  },
  {
   "cell_type": "code",
   "execution_count": 15,
   "id": "cd7adcf9-79ff-4a3d-860d-5270346af28d",
   "metadata": {},
   "outputs": [
    {
     "name": "stdout",
     "output_type": "stream",
     "text": [
      "<!-- ===== K 2 Battery _ Kärcher.Md ===== -->\n",
      "\n",
      "[Header 1: K 2 Battery]: Der Leistungsstarke Akku-Hochdruckreiniger K 2 Battery Für Vielseitige, Flexible Einsätze Ohne Stromanschluss. 36-V-Wechselakku Und Ladegerät Sind Als Sonderzubehör Separat Erhältlich. <!-- Text, From Page 0 (L=0.064,T=0.080,R=0.932,B=0.148), With Id 329Efb5D-Cc5E-4Ef2-8D0A-9F47C52857Eb -->\n",
      "\n",
      "[Header 1: K 2 Battery/Header 3: Description]: The Image Shows A Yellow And Black Pressure Washer From The Brand Kärcher. It Is A Compact, Portable Model With A Handle At The Top For Easy Carrying. The Device Features A Battery Compartment At The Top, Indicating It Is Battery-Operated. The Kärcher Logo Is Prominently Displayed On The Front. #### Key Features: - **Color**: Predominantly Yellow With Black Accents. - **Design**: - The Pressure Washer Has A Sturdy Handle For Portability.\n",
      "\n",
      "[Header 1: K 2 Battery/Header 3: Description]: - A Battery Compartment Is Visible At The Top, Suggesting It Is Cordless. - The Front Panel Includes A Circular Connector For Attaching Hoses Or Accessories. - **Accessories**: - Two Black Spray Lances Are Included, Each With Different Nozzle Designs For Varied Cleaning Tasks. - One Lance Appears To Have A Rotating Nozzle For More Intense Cleaning, While The Other Has A Standard Spray Tip.\n",
      "\n",
      "[Header 1: K 2 Battery/Header 3: Description]: This Pressure Washer Is Likely Designed For Home Use, Suitable For Cleaning Cars, Patios, And Other Outdoor Surfaces. The Inclusion Of A Battery Suggests It Is Intended For Convenience And Ease Of Use Without The Need For A Direct Power Source. <!-- Figure, From Page 0 (L=0.065,T=0.193,R=0.934,B=0.867), With Id 5B68F41F-10Ae-4Bdd-B8E6-79Dcdd14F4Cb -->\n",
      "\n",
      "[Header 1: K 2 Battery/Header 3: Price Information]: - **Price**: 209,99 € - **Details**: Inkl. Mwst. - Kostenlose Lieferung Ab 50 € <!-- Text, From Page 0 (L=0.087,T=0.882,R=0.404,B=0.932), With Id 2E3Be5A5-40E1-46A2-A339-1Ad280D895E0 -->\n",
      "\n",
      "[Header 1: K 2 Battery | Kärcher]: This Is A Page Header Indicating The Title \"K 2 Battery | Kärcher\". <!-- Page_Header, From Page 0 (L=0.516,T=0.019,R=0.641,B=0.028), With Id 7Cdd7B91-D342-4924-B4D2-426Dabc780D6 -->\n",
      "\n",
      "[Header 1: K 2 Battery | Kärcher/Header 2: Document Information]: - **Lieferbar In**: 3-4 Werktagen - **Bestellnummer**: 1.117-200.0 <!-- Key_Value, From Page 0 (L=0.087,T=0.037,R=0.300,B=0.069), With Id 63Bdf150-C4Ba-4430-9358-C5F1E1Afe288 -->\n",
      "\n",
      "[Header 1: K 2 Battery | Kärcher/Header 2: Händlersuche]: - **Ort Oder Plz**: [ ] <!-- Form, From Page 0 (L=0.087,T=0.112,R=0.390,B=0.161), With Id E5087E93-D534-45F9-A8A1-412Fc6E831Fa -->\n",
      "\n",
      "[Header 1: K 2 Battery | Kärcher/Header 2: Händlersuche/Header 3: Figure Description]: The Image Shows A Rating System With The Following Details: - **Star Rating**: - There Are Five Stars In Total. - The First Two Stars Are Filled In Yellow, Indicating A Positive Rating. - The Remaining Three Stars Are Empty, Indicating A Lack Of Rating. - **Numerical Rating**: - The Text \"3.1\" Is Displayed Next To The Stars, Representing The Average Rating. - **Number Of Reviews**: - The Number \"11\" Is Shown In Parentheses, Indicating The Total Number Of Reviews. - **Call To Action**:\n",
      "\n"
     ]
    }
   ],
   "source": [
    "for doc in docs[:10]:\n",
    "    print(doc.page_content, end=\"\\n\\n\")"
   ]
  },
  {
   "cell_type": "markdown",
   "id": "cb9d595f",
   "metadata": {},
   "source": [
    "## 5. Embedding the chunks"
   ]
  },
  {
   "cell_type": "code",
   "execution_count": 16,
   "id": "8d8c9a4a-7fdc-4897-bab9-6cdaa5beb5ab",
   "metadata": {},
   "outputs": [],
   "source": [
    "embed_params = {}\n",
    "\n",
    "watsonx_embedding = WatsonxEmbeddings(\n",
    "    model_id=\"ibm/granite-embedding-278m-multilingual\", \n",
    "    url= WX_API_URL,\n",
    "    project_id=WX_PROJECT_ID,\n",
    "    apikey=WX_API_KEY,\n",
    "    params=embed_params,\n",
    ")"
   ]
  },
  {
   "cell_type": "code",
   "execution_count": 17,
   "id": "a864b696-8dce-44b0-ad98-8bc9a6f1c898",
   "metadata": {},
   "outputs": [],
   "source": [
    "local_vector_db = Chroma.from_documents(\n",
    "    collection_name=\"my_collection\",\n",
    "    embedding=watsonx_embedding,\n",
    "    persist_directory=\"my_vector_db\", # This will save the vector database to disk! Delete it if you want to start fresh.\n",
    "    documents=docs,    #these are the chunks \n",
    "    \n",
    ")"
   ]
  },
  {
   "cell_type": "markdown",
   "id": "4ab31a6d",
   "metadata": {},
   "source": [
    "## 6. Vector base and  similarity search"
   ]
  },
  {
   "cell_type": "code",
   "execution_count": 18,
   "id": "9a242e43",
   "metadata": {},
   "outputs": [],
   "source": [
    "# Use the vectorstore as a retriever\n",
    "retriever = local_vector_db.as_retriever(\n",
    "    search_type=\"similarity\",\n",
    "    search_kwargs={\n",
    "        \"k\": 3,  #gives out the top 3 findings\n",
    "    }\n",
    ")"
   ]
  },
  {
   "cell_type": "code",
   "execution_count": 19,
   "id": "ff2b4b38",
   "metadata": {},
   "outputs": [
    {
     "name": "stdout",
     "output_type": "stream",
     "text": [
      "################################################################################\n",
      "ID: de03e295-e05a-45f4-a851-dae52efc32e3\n",
      "Content: [Header 1: K 3 Horizontal Plus Home/Header 2: Price Information]: - **Price**: 139,99 € - **Details**: Inkl. Mwst. - Kostenlose Lieferung Ab 50 € <!-- Key_Value, From Page 0 (L=0.089,T=0.882,R=0.404,B=0.932), With Id 6Eec2Ff0-5133-4A70-9F5A-A084Dc62E5Ca -->\n",
      "\n",
      "################################################################################\n",
      "ID: 08d8bac5-4287-4faf-99f4-8e50d996ae47\n",
      "Content: [Header 1: K 3 Horizontal Plus Home | Kärcher]: This Is A Page Header Indicating The Product Name \"K 3 Horizontal Plus Home\" By The Brand \"Kärcher\". <!-- Page_Header, From Page 0 (L=0.473,T=0.019,R=0.685,B=0.028), With Id 27110F42-86E4-4F23-B0Fd-E50788F227Ca -->\n",
      "\n",
      "################################################################################\n",
      "ID: cf4838dc-9ffc-42a5-a8f9-6921a4d2d8f1\n",
      "Content: [Header 1: K 3 Horizontal Plus Home | Kärcher]: This Is A Page Header Indicating The Product Name \"K 3 Horizontal Plus Home\" By The Brand \"Kärcher\". <!-- Page_Header, From Page 0 (L=0.471,T=0.019,R=0.685,B=0.028), With Id D8Ba6168-0E3D-408F-A95D-B3222A80Cd94 -->\n",
      "\n"
     ]
    }
   ],
   "source": [
    "retrieved_documents = retriever.invoke(\"What is the price in € of the K 3 Horizontal Plus Home?\")\n",
    "\n",
    "for document in retrieved_documents:\n",
    "    print(f\"{'#' * 80}\\nID: {document.id}\")\n",
    "    first_n_of_content = document.page_content[:500].replace('\\n\\n', ' ')\n",
    "    print(f\"Content: {first_n_of_content}\\n\")"
   ]
  },
  {
   "cell_type": "markdown",
   "id": "b24224f9",
   "metadata": {},
   "source": [
    "## 7. RAG prompt template"
   ]
  },
  {
   "cell_type": "code",
   "execution_count": 20,
   "id": "2717c896",
   "metadata": {},
   "outputs": [],
   "source": [
    "few_shot_examples = \"\"\"\n",
    "Example 1:\n",
    "Question: What is the price of the product 'K 7 Smart Control Flex Home'?\n",
    "Answer: 644.99 €\n",
    "\n",
    "Example 2:\n",
    "Question: What is the delivery time of the product 'K 5 FJ Home'?\n",
    "Answer: 3-4 Werktage\n",
    "\n",
    "Example 3:\n",
    "Question: What is the field 'Stromart (V/Hz)' for product '\tK 4 WCM'?\n",
    "Answer: 230 / 50\n",
    "\"\"\"\n",
    "\n",
    "template = \"\"\"You are an assistant helping to complete missing fields in a product database by extracting accurate information from documentation.\n",
    "\n",
    "Each question corresponds to a missing field in the product's entry (e.g., price, description, accessories). Use the retrieved context to find and return the correct value.\n",
    "\n",
    "If the context does not contain the necessary information, respond with \"Unknown\". Keep answers factual, concise, and suitable for filling into a CSV cell. Do not speculate or include explanations. \n",
    "\n",
    "Do not answer in a sentence but just with the value.\n",
    "\n",
    "{few_shot_examples}\n",
    "\n",
    "Question:\n",
    "{question}\n",
    "\n",
    "Context: \n",
    "{context}\n",
    "\n",
    "Answer:\n",
    "\"\"\"\n",
    "prompt = PromptTemplate.from_template(template)"
   ]
  },
  {
   "cell_type": "markdown",
   "id": "a8038f9e",
   "metadata": {},
   "source": [
    "## 8. RAG pipeline"
   ]
  },
  {
   "cell_type": "code",
   "execution_count": 21,
   "id": "bd8928cb",
   "metadata": {},
   "outputs": [
    {
     "data": {
      "text/plain": [
       "StringPromptValue(text='You are an assistant helping to complete missing fields in a product database by extracting accurate information from documentation.\\n\\nEach question corresponds to a missing field in the product\\'s entry (e.g., price, description, accessories). Use the retrieved context to find and return the correct value.\\n\\nIf the context does not contain the necessary information, respond with \"Unknown\". Keep answers factual, concise, and suitable for filling into a CSV cell. Do not speculate or include explanations. \\n\\nDo not answer in a sentence but just with the value.\\n\\n\\nExample 1:\\nQuestion: What is the price of the product \\'K 7 Smart Control Flex Home\\'?\\nAnswer: 644.99 €\\n\\nExample 2:\\nQuestion: What is the delivery time of the product \\'K 5 FJ Home\\'?\\nAnswer: 3-4 Werktage\\n\\nExample 3:\\nQuestion: What is the field \\'Stromart (V/Hz)\\' for product \\'\\tK 4 WCM\\'?\\nAnswer: 230 / 50\\n\\n\\nQuestion:\\nWhat is the price in € of the product K 3 Plus Home?\\n\\nContext: \\n[Header 1: K 3 Horizontal Plus Home/Header 2: Price Information]: - **Price**: 139,99 € - **Details**: Inkl. Mwst. - Kostenlose Lieferung Ab 50 € <!-- Key_Value, From Page 0 (L=0.089,T=0.882,R=0.404,B=0.932), With Id 6Eec2Ff0-5133-4A70-9F5A-A084Dc62E5Ca -->\\n\\nAnswer:\\n')"
      ]
     },
     "execution_count": 21,
     "metadata": {},
     "output_type": "execute_result"
    }
   ],
   "source": [
    "prompt.invoke(\n",
    "    input={\n",
    "     \"question\": \"What is the price in € of the product K 3 Plus Home?\",\n",
    "     \"context\": retrieved_documents[0].page_content,\n",
    "     \"few_shot_examples\": few_shot_examples\n",
    "      }\n",
    "    )"
   ]
  },
  {
   "cell_type": "code",
   "execution_count": 22,
   "id": "8db63af0",
   "metadata": {},
   "outputs": [
    {
     "name": "stdout",
     "output_type": "stream",
     "text": [
      "You are an assistant helping to complete missing fields in a product database by extracting accurate information from documentation.\n",
      "\n",
      "Each question corresponds to a missing field in the product's entry (e.g., price, description, accessories). Use the retrieved context to find and return the correct value.\n",
      "\n",
      "If the context does not contain the necessary information, respond with \"Unknown\". Keep answers factual, concise, and suitable for filling into a CSV cell. Do not speculate or include explanations. \n",
      "\n",
      "Do not answer in a sentence but just with the value.\n",
      "\n",
      "\n",
      "Example 1:\n",
      "Question: What is the price of the product 'K 7 Smart Control Flex Home'?\n",
      "Answer: 644.99 €\n",
      "\n",
      "Example 2:\n",
      "Question: What is the delivery time of the product 'K 5 FJ Home'?\n",
      "Answer: 3-4 Werktage\n",
      "\n",
      "Example 3:\n",
      "Question: What is the field 'Stromart (V/Hz)' for product '\tK 4 WCM'?\n",
      "Answer: 230 / 50\n",
      "\n",
      "\n",
      "Question:\n",
      "What is the price in € of the product K 3 Plus Home?\n",
      "\n",
      "Context: \n",
      "Document 1:\n",
      "[Header 1: K 3 Horizontal Plus Home/Header 2: Pri\n"
     ]
    }
   ],
   "source": [
    "question = \"What is the price in € of the product K 3 Plus Home?\"\n",
    "\n",
    "retrieved_docs = local_vector_db.similarity_search(question)\n",
    "docs_content = \"\\n\\n\".join(f\"Document {i+1}:\\n{doc.page_content}\" for i, doc in enumerate(retrieved_docs))\n",
    "formated_prompt = prompt.invoke({\"question\": question, \"context\": docs_content, \"few_shot_examples\": few_shot_examples})\n",
    "\n",
    "print(formated_prompt.to_string()[:1000])"
   ]
  },
  {
   "cell_type": "code",
   "execution_count": 23,
   "id": "a20ad9be",
   "metadata": {},
   "outputs": [
    {
     "name": "stdout",
     "output_type": "stream",
     "text": [
      "The price of the product 'K 3 Plus Home' is 139.99 €.\n"
     ]
    }
   ],
   "source": [
    "answer = llm.invoke(formated_prompt)\n",
    "\n",
    "print(answer)"
   ]
  },
  {
   "cell_type": "markdown",
   "id": "ff03d958",
   "metadata": {},
   "source": [
    "### 8.1 RAG pipeline with LangGraph"
   ]
  },
  {
   "cell_type": "code",
   "execution_count": 24,
   "id": "b1e81f27",
   "metadata": {},
   "outputs": [],
   "source": [
    "# Define state for application\n",
    "class State(TypedDict):\n",
    "    \"\"\" A langgraph state for the application \"\"\"\n",
    "    question: str\n",
    "    context: list[Document]\n",
    "    answer: str\n",
    "\n",
    "\n",
    "# Define application steps\n",
    "def retrieve(state: State):\n",
    "    \"\"\" Our retrieval step. We use our local vector database to retrieve similar documents to the question \"\"\"\n",
    "    retrieved_docs = local_vector_db.similarity_search(state[\"question\"], k=3) \n",
    "    return {\"context\": retrieved_docs} \n",
    "\n",
    "\n",
    "def generate(state: State):\n",
    "    \"\"\" Our generation step. We use the retrieved documents to generate an answer to the question \"\"\"\n",
    "\n",
    "    # Format the prompt\n",
    "    docs_content = \"\\n\\n\".join(doc.page_content for doc in state[\"context\"])\n",
    "    formated_prompt = prompt.invoke({\"question\": state[\"question\"], \"context\": docs_content, \"few_shot_examples\": few_shot_examples})\n",
    "\n",
    "    # Generate the answer\n",
    "    response = llm.invoke(formated_prompt)\n",
    "    return {\"answer\": response}\n",
    "\n",
    "\n",
    "# Compile application and test\n",
    "graph_builder = StateGraph(State).add_sequence([retrieve, generate])\n",
    "graph_builder.add_edge(START, \"retrieve\") # Start at the retrieve step\n",
    "graph = graph_builder.compile() # Compile the graph"
   ]
  },
  {
   "cell_type": "code",
   "execution_count": 25,
   "id": "7f647f3f",
   "metadata": {},
   "outputs": [
    {
     "data": {
      "text/plain": [
       "{'question': 'What is the price in € of the product K 7 Premium Power Flex?',\n",
       " 'context': [Document(id='7a450759-c87f-41dc-a7b0-ba89b28a697e', metadata={'Header 1': 'K 7 POWER FLEX HOME <!-- title, from page 0 (l=0.065,t=0.080,r=0.436,b=0.100), with ID dea94208-49e1-4a22-82f3-a1199f26c167 -->', 'Header 2': 'Price'}, page_content='[Header 1: K 7 Power Flex Home <!-- Title, From Page 0 (L=0.065,T=0.080,R=0.436,B=0.100), With Id Dea94208-49E1-4A22-82F3-A1199F26C167 -->/Header 2: Price]: 574,99 € <!-- Text, From Page 0 (L=0.089,T=0.882,R=0.251,B=0.907), With Id D921A42C-Dd4F-4Fd7-99A0-2D2839878787 -->'),\n",
       "  Document(id='3432a15a-a552-4e04-9aa7-a0d23d24edc8', metadata={'Header 1': 'K 7 PREMIUM POWER FLEX HOME', 'Header 2': 'Price Information'}, page_content='[Header 1: K 7 Premium Power Flex Home/Header 2: Price Information]: - **Price**: 624,99 € - **Includes**: Mwst. (Vat) - **Delivery**: Kostenlose Lieferung Ab 50 € (Free Delivery From 50 €) <!-- Key_Value, From Page 0 (L=0.087,T=0.882,R=0.404,B=0.932), With Id Bb77038B-12Ab-434C-B703-5D8D00394C8E -->'),\n",
       "  Document(id='b0e18eba-9be5-4e0b-983b-9d2969c0ff61', metadata={'Header 1': 'K 7 PREMIUM POWER FLEX', 'Header 2': 'Price Information'}, page_content='[Header 1: K 7 Premium Power Flex/Header 2: Price Information]: - **Price**: 554,99 € - **Includes**: Mwst. (Vat) - **Delivery**: Kostenlose Lieferung Ab 50 € (Free Delivery From 50 €) <!-- Key_Value, From Page 0 (L=0.087,T=0.882,R=0.404,B=0.932), With Id 0Cc8D341-7E53-4Aca-B8E1-D4Cc1180Af10 -->')],\n",
       " 'answer': \"The price of the product 'K 7 Premium Power Flex' is 554.99 €.\"}"
      ]
     },
     "execution_count": 25,
     "metadata": {},
     "output_type": "execute_result"
    }
   ],
   "source": [
    "response = graph.invoke({\"question\": \"What is the price in € of the product K 7 Premium Power Flex?\"})\n",
    "\n",
    "response"
   ]
  },
  {
   "cell_type": "markdown",
   "id": "70805a22",
   "metadata": {},
   "source": [
    "## 9. Evaluation"
   ]
  },
  {
   "cell_type": "code",
   "execution_count": 26,
   "id": "b578d2d4",
   "metadata": {},
   "outputs": [],
   "source": [
    "df_edited = pd.read_csv(r\"C:\\Users\\charl\\Documents\\CBS\\Code Projects_Python\\AIML25\\AIML25_Project\\data\\SAP_Produktstammdaten_vfinal.csv\", sep=\",\")"
   ]
  },
  {
   "cell_type": "markdown",
   "id": "8143eea9",
   "metadata": {},
   "source": [
    "### 9.1 Deleting random data from the csv"
   ]
  },
  {
   "cell_type": "code",
   "execution_count": 43,
   "id": "d80e9d38",
   "metadata": {},
   "outputs": [],
   "source": [
    "#columns to exclude from deletion\n",
    "protected_columns = [\"Produktname\", \"Bestellnummer\"]\n",
    "\n",
    "#identify non-empty cells excluding the protected column\n",
    "non_empty_cells = [\n",
    "    (i, col)\n",
    "    for i in df_edited.index\n",
    "    for col in df_edited.columns\n",
    "    if col not in protected_columns and pd.notna(df_edited.at[i, col])\n",
    "]\n",
    "\n",
    "#define how many values to drop \n",
    "drop_fraction = 0.03  #3%\n",
    "num_to_drop = int(len(non_empty_cells) * drop_fraction)\n",
    "\n",
    "#randomly selects which cells to drop\n",
    "cells_to_drop = random.sample(non_empty_cells, num_to_drop)\n",
    "\n",
    "#setting selected cells to NaN\n",
    "for i, col in cells_to_drop:\n",
    "    df_edited.at[i, col] = np.nan\n"
   ]
  },
  {
   "cell_type": "code",
   "execution_count": 44,
   "id": "8671b736",
   "metadata": {},
   "outputs": [
    {
     "name": "stdout",
     "output_type": "stream",
     "text": [
      "Row 0 – K 7 Premium Smart Control Flex eco!B is missing: Lieferzeit\n",
      "Row 0 – K 7 Premium Smart Control Flex eco!B is missing: Anschlussleistung (kW)\n",
      "Row 0 – K 7 Premium Smart Control Flex eco!B is missing: Lieferumfang\n",
      "Row 1 – K 7 Premium Smart Control Flex Home is missing: Anschlussleistung (kW)\n",
      "Row 3 – K 7 Premium Power Flex Home is missing: Fördermenge (l/h)\n",
      "Row 3 – K 7 Premium Power Flex Home is missing: Flächenleistung (m²/h)\n",
      "Row 5 – K 7 Smart Control Flex eco!Booster is missing: Gewicht inkl. Verpackung (kg)\n",
      "Row 9 – K 7 Smart Control Flex is missing: Preis (€ inkl. MwSt.)\n",
      "Row 10 – K 7 WCM Premium Home is missing: Stromart (V/Hz)\n",
      "Row 10 – K 7 WCM Premium Home is missing: Abmessungen (L × B × H) (mm)\n",
      "Row 11 – K 7 WCM is missing: Lieferzeit\n",
      "Row 11 – K 7 WCM is missing: Farbe\n",
      "Row 12 – K 7 WCM Car&Home is missing: Lieferzeit\n",
      "Row 12 – K 7 WCM Car&Home is missing: Stromart (V/Hz)\n",
      "Row 12 – K 7 WCM Car&Home is missing: Gewicht inkl. Verpackung (kg)\n",
      "Row 13 – K 7 WCM FJ is missing: Anschlusskabel (m)\n",
      "Row 17 – K 5 Power Control Flex Home is missing: Farbe\n",
      "Row 17 – K 5 Power Control Flex Home is missing: Gewicht inkl. Verpackung (kg)\n",
      "Row 18 – K 5 WCM is missing: Anschlusskabel (m)\n",
      "Row 25 – K 5 FJ Home is missing: Lieferzeit\n",
      "Row 28 – K 5 Premium Power Control Flex is missing: Lieferumfang\n",
      "Row 29 – K 5 Premium Power Control Flex Home is missing: Fördermenge (l/h)\n",
      "Row 30 – K 5 Premium Smart Control Flex is missing: Gewicht inkl. Verpackung (kg)\n",
      "Row 31 – K 5 Smart Control Flex eco!Booster is missing: Fördermenge (l/h)\n",
      "Row 31 – K 5 Smart Control Flex eco!Booster is missing: Farbe\n",
      "Row 32 – K 4 Premium Power Control Flex is missing: Lieferumfang\n",
      "Row 32 – K 4 Premium Power Control Flex is missing: Ausstattung\n",
      "Row 34 – K 4 FJ Home is missing: Abmessungen (L × B × H) (mm)\n",
      "Row 35 – K 4 WCM Premium is missing: Gewicht ohne Zubehör (kg)\n",
      "Row 35 – K 4 WCM Premium is missing: Abmessungen (L × B × H) (mm)\n",
      "Row 37 – K 4 Classic Car is missing: Druck (bar/MPa)\n",
      "Row 38 – K 4 Classic Home is missing: Abmessungen (L × B × H) (mm)\n",
      "Row 39 – K 4 WCM Premium Home is missing: Fördermenge (l/h)\n",
      "Row 40 – K Silent Anniversary Edition is missing: Zulauftemperatur (°C)\n",
      "Row 42 – K 4 Power Control Flex is missing: Preis (€ inkl. MwSt.)\n",
      "Row 44 – K 4 Premium Power Control Flex Home is missing: Anschlusskabel (m)\n",
      "Row 45 – K 4 WCM is missing: Preis (€ inkl. MwSt.)\n",
      "Row 45 – K 4 WCM is missing: Zulauftemperatur (°C)\n",
      "Row 45 – K 4 WCM is missing: Gewicht ohne Zubehör (kg)\n",
      "Row 45 – K 4 WCM is missing: Gewicht inkl. Verpackung (kg)\n",
      "Row 46 – K 3 Power Control is missing: Stromart (V/Hz)\n",
      "Row 46 – K 3 Power Control is missing: Lieferumfang\n",
      "Row 47 – K 3 Classic is missing: Flächenleistung (m²/h)\n",
      "Row 47 – K 3 Classic is missing: Gewicht inkl. Verpackung (kg)\n",
      "Row 51 – K 3 Horizontal Plus Home is missing: Zulauftemperatur (°C)\n",
      "Row 53 – K 3 Premium Power Control is missing: Stromart (V/Hz)\n",
      "Row 53 – K 3 Premium Power Control is missing: Fördermenge (l/h)\n",
      "Row 53 – K 3 Premium Power Control is missing: Gewicht inkl. Verpackung (kg)\n",
      "Row 54 – K 3 Horizontal Plus is missing: Farbe\n",
      "Row 56 – K 2 Battery is missing: Preis (€ inkl. MwSt.)\n",
      "Row 57 – K 2 Classic is missing: Lieferumfang\n",
      "Row 57 – K 2 Classic is missing: Ausstattung\n",
      "Row 58 – K 2 Power Control is missing: Abmessungen (L × B × H) (mm)\n",
      "Row 61 – K 2 Premium Horizontal VPS Home is missing: Ausstattung\n",
      "Row 64 – K 2 Power Control Home is missing: Lieferumfang\n",
      "Row 65 – K 2 Universal Edition is missing: Stromart (V/Hz)\n",
      "Row 67 – K Mini is missing: Preis (€ inkl. MwSt.)\n",
      "Row 67 – K Mini is missing: Lieferzeit\n",
      "Row 67 – K Mini is missing: Gewicht inkl. Verpackung (kg)\n"
     ]
    }
   ],
   "source": [
    "missing_fields = []  #list of deleted/mising cells\n",
    "\n",
    "#looping through the csv file based on the column \"product name\" and adding all NaN or \"\" cells to the list\n",
    "for idx, row in df_edited.iterrows():\n",
    "    product_name = row[\"Produktname\"]\n",
    "    \n",
    "    for field in df_edited.columns:\n",
    "        value = row[field]\n",
    "        if pd.isna(value) or str(value).strip().lower() in [\"\"]:\n",
    "            missing_fields.append((idx, product_name, field))\n",
    "\n",
    "#display all missing values\n",
    "for idx, product_name, field in missing_fields:\n",
    "    print(f\"Row {idx} – {product_name} is missing: {field}\")\n"
   ]
  },
  {
   "cell_type": "markdown",
   "id": "8cecc2bb",
   "metadata": {},
   "source": [
    "### 9.2 Accuracy rating"
   ]
  },
  {
   "cell_type": "code",
   "execution_count": 45,
   "id": "d62161e5",
   "metadata": {},
   "outputs": [],
   "source": [
    "#loading the csv file again to use it as comparison \n",
    "df_original= pd.read_csv(r\"C:\\Users\\charl\\Documents\\CBS\\Code Projects_Python\\AIML25\\AIML25_Project\\data\\SAP_Produktstammdaten_vfinal.csv\", sep=\",\")"
   ]
  },
  {
   "cell_type": "code",
   "execution_count": 46,
   "id": "2d84d017",
   "metadata": {},
   "outputs": [],
   "source": [
    "def normalize_answer(answer):\n",
    "    #remove unnecessary words and units \n",
    "        normalized_answer = re.sub(r\"(kg|kW|L/h|bar|MPa|M²/H|°C|cm|mm)\", \"\", answer)\n",
    "    #remove extra spaces, newlines, or any text that isn't the core numeric value but keep \".\", \"/\", \"-\"\n",
    "        normalized_answer = re.sub(r\"[^a-zA-Z0-9\\s./-äöü-]\", \"\", normalized_answer)\n",
    "    #remove \"\\n\" and everything after\n",
    "        normalized_answer = re.sub(r'\\n.*', ' ', normalized_answer)\n",
    "    #normalize the format to lowercase\n",
    "        normalized_answer = normalized_answer.lower()\n",
    "        \n",
    "        return normalized_answer\n",
    "\n",
    "results = []\n",
    "\n",
    "for idx, product_name, field in missing_fields:\n",
    "    question = f\"What is the {field} for product '{product_name}'?\"\n",
    "\n",
    "    #running the LangGraph application\n",
    "    state_input = {\"question\": question}\n",
    "    output_state = graph.invoke(state_input)\n",
    "\n",
    "    answer = output_state[\"answer\"]\n",
    "\n",
    "    answer= normalize_answer(answer)\n",
    "\n",
    "    #define ground truth from the original DataFrame\n",
    "    try:\n",
    "        ground_truth_value = df_original.at[idx, field]\n",
    "    except KeyError:\n",
    "        ground_truth_value = None\n",
    "\n",
    "    is_correct = (\n",
    "        str(answer).strip().lower() == str(ground_truth_value).strip().lower()\n",
    "        if pd.notna(ground_truth_value) else None\n",
    "    )\n",
    "\n",
    "    results.append({\n",
    "        \"index\": idx,\n",
    "        \"product\": product_name,\n",
    "        \"field\": field,\n",
    "        \"answer\": answer,\n",
    "        \"ground_truth\": ground_truth_value,\n",
    "        \"correct\": is_correct,\n",
    "    })\n"
   ]
  },
  {
   "cell_type": "code",
   "execution_count": 47,
   "id": "20c4feb2",
   "metadata": {},
   "outputs": [
    {
     "data": {
      "text/plain": [
       "[{'index': 0,\n",
       "  'product': 'K 7 Premium Smart Control Flex eco!B',\n",
       "  'field': 'Lieferzeit',\n",
       "  'answer': '2-3 werktagen',\n",
       "  'ground_truth': '2-3 Werktage',\n",
       "  'correct': False},\n",
       " {'index': 0,\n",
       "  'product': 'K 7 Premium Smart Control Flex eco!B',\n",
       "  'field': 'Anschlussleistung (kW)',\n",
       "  'answer': 'the anschlussleistung  for product k 7 premium smart control flex ecob is 3 .',\n",
       "  'ground_truth': '3',\n",
       "  'correct': False},\n",
       " {'index': 0,\n",
       "  'product': 'K 7 Premium Smart Control Flex eco!B',\n",
       "  'field': 'Lieferumfang',\n",
       "  'answer': 'inklusive mwst. kostenloser versand ab 50 ',\n",
       "  'ground_truth': 'G 180 Q Smart Control, Multi Jet 3-in-1, eco!Booster, HD-Schlauch 10 m PremiumFlex, Adapter Gartenschlauchanschluss A3/4',\n",
       "  'correct': False},\n",
       " {'index': 1,\n",
       "  'product': 'K 7 Premium Smart Control Flex Home',\n",
       "  'field': 'Anschlussleistung (kW)',\n",
       "  'answer': 'the anschlussleistung  for product k 7 premium smart control flex home is 3 .',\n",
       "  'ground_truth': '3',\n",
       "  'correct': False},\n",
       " {'index': 3,\n",
       "  'product': 'K 7 Premium Power Flex Home',\n",
       "  'field': 'Fördermenge (l/h)',\n",
       "  'answer': '   ',\n",
       "  'ground_truth': 'max. 600',\n",
       "  'correct': False},\n",
       " {'index': 3,\n",
       "  'product': 'K 7 Premium Power Flex Home',\n",
       "  'field': 'Flächenleistung (m²/h)',\n",
       "  'answer': 'flächenleistung m²/h: unknown',\n",
       "  'ground_truth': '60',\n",
       "  'correct': False},\n",
       " {'index': 5,\n",
       "  'product': 'K 7 Smart Control Flex eco!Booster',\n",
       "  'field': 'Gewicht inkl. Verpackung (kg)',\n",
       "  'answer': '24      ',\n",
       "  'ground_truth': 24.0,\n",
       "  'correct': False},\n",
       " {'index': 9,\n",
       "  'product': 'K 7 Smart Control Flex',\n",
       "  'field': 'Preis (€ inkl. MwSt.)',\n",
       "  'answer': 'the provided context contains two prices for the product k 7 smart control flex: one is 694.99  including vat and another is 644.99  excluding vat. since the question asks for the price inclusive of taxes the answer should be based on that information. however there seems to be a discrepancy between the two values mentioned. assuming the first price including vat is the intended response the answer would be:  ',\n",
       "  'ground_truth': '574.99',\n",
       "  'correct': False},\n",
       " {'index': 10,\n",
       "  'product': 'K 7 WCM Premium Home',\n",
       "  'field': 'Stromart (V/Hz)',\n",
       "  'answer': 'the provided context contains multiple entries for products similar to k 7 wcm premium home. all listings have the same technical specifications including stromart v/hz as 230 / 50. therefore the answer remains consistent across all examples:  ',\n",
       "  'ground_truth': '230 / 50',\n",
       "  'correct': False},\n",
       " {'index': 10,\n",
       "  'product': 'K 7 WCM Premium Home',\n",
       "  'field': 'Abmessungen (L × B × H) (mm)',\n",
       "  'answer': '369 × 394 × 946',\n",
       "  'ground_truth': '369 x 394 x 946',\n",
       "  'correct': False},\n",
       " {'index': 11,\n",
       "  'product': 'K 7 WCM',\n",
       "  'field': 'Lieferzeit',\n",
       "  'answer': '3-4 tage',\n",
       "  'ground_truth': '2-3 Werktage',\n",
       "  'correct': False},\n",
       " {'index': 11,\n",
       "  'product': 'K 7 WCM',\n",
       "  'field': 'Farbe',\n",
       "  'answer': '    ',\n",
       "  'ground_truth': 'gelb',\n",
       "  'correct': False},\n",
       " {'index': 12,\n",
       "  'product': 'K 7 WCM Car&Home',\n",
       "  'field': 'Lieferzeit',\n",
       "  'answer': '2-3 werktagen',\n",
       "  'ground_truth': '2-3 Werktage',\n",
       "  'correct': False},\n",
       " {'index': 12,\n",
       "  'product': 'K 7 WCM Car&Home',\n",
       "  'field': 'Stromart (V/Hz)',\n",
       "  'answer': '230 / 50',\n",
       "  'ground_truth': '230 / 50',\n",
       "  'correct': True},\n",
       " {'index': 12,\n",
       "  'product': 'K 7 WCM Car&Home',\n",
       "  'field': 'Gewicht inkl. Verpackung (kg)',\n",
       "  'answer': '23    ',\n",
       "  'ground_truth': 23.0,\n",
       "  'correct': False},\n",
       " {'index': 13,\n",
       "  'product': 'K 7 WCM FJ',\n",
       "  'field': 'Anschlusskabel (m)',\n",
       "  'answer': '5             ',\n",
       "  'ground_truth': '5',\n",
       "  'correct': True},\n",
       " {'index': 17,\n",
       "  'product': 'K 5 Power Control Flex Home',\n",
       "  'field': 'Farbe',\n",
       "  'answer': 'black yellow   ',\n",
       "  'ground_truth': 'gelb',\n",
       "  'correct': False},\n",
       " {'index': 17,\n",
       "  'product': 'K 5 Power Control Flex Home',\n",
       "  'field': 'Gewicht inkl. Verpackung (kg)',\n",
       "  'answer': '18.4  ',\n",
       "  'ground_truth': 18.4,\n",
       "  'correct': True},\n",
       " {'index': 18,\n",
       "  'product': 'K 5 WCM',\n",
       "  'field': 'Anschlusskabel (m)',\n",
       "  'answer': '5  ',\n",
       "  'ground_truth': '5',\n",
       "  'correct': True},\n",
       " {'index': 25,\n",
       "  'product': 'K 5 FJ Home',\n",
       "  'field': 'Lieferzeit',\n",
       "  'answer': '3-4 werktage',\n",
       "  'ground_truth': '3-4 Werktage',\n",
       "  'correct': True}]"
      ]
     },
     "execution_count": 47,
     "metadata": {},
     "output_type": "execute_result"
    }
   ],
   "source": [
    "#showing some results\n",
    "results[:20]"
   ]
  },
  {
   "cell_type": "code",
   "execution_count": 48,
   "id": "53a6d614",
   "metadata": {},
   "outputs": [
    {
     "name": "stdout",
     "output_type": "stream",
     "text": [
      "LLM Accuracy: 23.73%\n"
     ]
    }
   ],
   "source": [
    "# Convert results to DataFrame\n",
    "eval_df = pd.DataFrame(results)\n",
    "\n",
    "# Accuracy\n",
    "if \"correct\" in eval_df.columns:\n",
    "    accuracy = eval_df[\"correct\"].dropna().mean()\n",
    "    print(f\"LLM Accuracy: {accuracy:.2%}\")\n"
   ]
  },
  {
   "cell_type": "code",
   "execution_count": 49,
   "id": "ec01a6cb",
   "metadata": {},
   "outputs": [
    {
     "name": "stdout",
     "output_type": "stream",
     "text": [
      "\n",
      "Accuracy per column:\n",
      "field\n",
      "Abmessungen (L × B × H) (mm)     0.20\n",
      "Anschlusskabel (m)               1.00\n",
      "Anschlussleistung (kW)           0.00\n",
      "Ausstattung                      0.00\n",
      "Druck (bar/MPa)                  0.00\n",
      "Farbe                            0.00\n",
      "Flächenleistung (m²/h)           0.00\n",
      "Fördermenge (l/h)                0.80\n",
      "Gewicht inkl. Verpackung (kg)    0.25\n",
      "Gewicht ohne Zubehör (kg)        0.00\n",
      "Lieferumfang                     0.00\n",
      "Lieferzeit                       0.20\n",
      "Preis (€ inkl. MwSt.)            0.00\n",
      "Stromart (V/Hz)                  0.60\n",
      "Zulauftemperatur (°C)            0.00\n",
      "Name: correct, dtype: float64\n"
     ]
    }
   ],
   "source": [
    "column_accuracy = eval_df.dropna(subset=[\"correct\"]).groupby(\"field\")[\"correct\"].mean()\n",
    "\n",
    "print(\"\\nAccuracy per column:\")\n",
    "print(column_accuracy)"
   ]
  }
 ],
 "metadata": {
  "kernelspec": {
   "display_name": "aiml25_project_env",
   "language": "python",
   "name": "python3"
  },
  "language_info": {
   "codemirror_mode": {
    "name": "ipython",
    "version": 3
   },
   "file_extension": ".py",
   "mimetype": "text/x-python",
   "name": "python",
   "nbconvert_exporter": "python",
   "pygments_lexer": "ipython3",
   "version": "3.10.17"
  }
 },
 "nbformat": 4,
 "nbformat_minor": 5
}
